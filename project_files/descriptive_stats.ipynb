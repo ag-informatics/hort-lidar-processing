{
 "cells": [
  {
   "cell_type": "code",
   "execution_count": 1,
   "metadata": {},
   "outputs": [
    {
     "name": "stdout",
     "output_type": "stream",
     "text": [
      "[Warning] Since Open3D 0.15, installing Open3D via conda is deprecated. Please re-install Open3D via: `pip install open3d -U`.\n",
      "Jupyter environment detected. Enabling Open3D WebVisualizer.\n",
      "[Open3D INFO] WebRTC GUI backend enabled.\n",
      "[Open3D INFO] WebRTCWindowSystem: HTTP handshake server disabled.\n"
     ]
    }
   ],
   "source": [
    "import pandas as pd\n",
    "import numpy as np\n",
    "import matplotlib.pyplot as plt\n",
    "import open3d as o3d\n",
    "from dsfunctions import get_npts, get_nnd, get_ch_vol\n",
    "import scipy.stats as stats\n",
    "from scipy.optimize import curve_fit\n",
    "from sklearn.metrics import r2_score\n",
    "import random\n",
    "from sklearn.model_selection import train_test_split"
   ]
  },
  {
   "cell_type": "code",
   "execution_count": 2,
   "metadata": {},
   "outputs": [],
   "source": [
    "# Load data\n",
    "df = pd.read_csv('full_pc_directory.csv')"
   ]
  },
  {
   "cell_type": "code",
   "execution_count": 3,
   "metadata": {},
   "outputs": [
    {
     "name": "stdout",
     "output_type": "stream",
     "text": [
      "['Garden_Plots' 'Tomato_Fertilizer_Trial' 'Watermelon_Variety_Trial'\n",
      " 'Transplant-Age_Plants' 'Pepper_Variety_Trial']\n"
     ]
    }
   ],
   "source": [
    "# Convert data to useful format\n",
    "df = df[df['s_priority'] != 5]\n",
    "df['trial']=df['trial_dir']\n",
    "w_trials = ['Seedless_Watermelon_Variety_Trial', 'Personal-Sized_Watermelons']\n",
    "df['trial'] = df['trial'].replace(w_trials, 'Watermelon_Variety_Trial')\n",
    "print(df['trial'].unique())\n",
    "df['npts'] = np.nan\n",
    "df['nnd'] = np.nan\n",
    "df['ch_vol'] = np.nan\n",
    "df['npts_vol'] = np.nan"
   ]
  },
  {
   "cell_type": "code",
   "execution_count": 4,
   "metadata": {},
   "outputs": [],
   "source": [
    "# Define function to process each row\n",
    "\n",
    "def process_row(row):\n",
    "\n",
    "    # Read in point cloud\n",
    "    inf='{a}\\{b}\\{c}\\sor_plant_{c}.ply'.format(a=row['trial_dir'],\n",
    "                                            b=row['date_dir'],\n",
    "                                            c=row['plot_id'])\n",
    "    pcd = o3d.io.read_point_cloud(inf)\n",
    "    \n",
    "    # Get number of points\n",
    "    npts = get_npts(pcd)\n",
    "\n",
    "    # Get nearest neighbor distance\n",
    "    nnd = get_nnd(pcd)\n",
    "\n",
    "    # Get convex hull volume\n",
    "    ch_vol = get_ch_vol(pcd)\n",
    "\n",
    "    # Get n points per unit volume\n",
    "    npts_vol = npts/ch_vol\n",
    "\n",
    "    row['npts'] = npts\n",
    "    row['nnd'] = nnd\n",
    "    row['ch_vol'] = ch_vol\n",
    "    row['npts_vol'] = npts_vol\n",
    "\n",
    "    print(row['sample_id'], ' processed')\n",
    "\n",
    "    return row"
   ]
  },
  {
   "cell_type": "code",
   "execution_count": 5,
   "metadata": {},
   "outputs": [
    {
     "name": "stdout",
     "output_type": "stream",
     "text": [
      "gp_10_06_24_2023  processed\n",
      "gp_10_08_02_2023  processed\n",
      "gp_10_08_12_2023  processed\n",
      "gp_10_08_25_2023  processed\n",
      "gp_10_09_07_2023  processed\n",
      "gp_10_09_14_2023  processed\n",
      "gp_11_06_24_2023  processed\n",
      "gp_11_08_02_2023  processed\n",
      "gp_11_08_12_2023  processed\n",
      "gp_11_08_25_2023  processed\n",
      "gp_11_09_07_2023  processed\n",
      "gp_11_09_14_2023  processed\n",
      "gp_12_06_24_2023  processed\n",
      "gp_13_06_24_2023  processed\n",
      "gp_13_08_02_2023  processed\n",
      "gp_14_06_24_2023  processed\n",
      "gp_14_08_02_2023  processed\n",
      "gp_15_06_24_2023  processed\n",
      "gp_17_06_24_2023  processed\n",
      "gp_17_08_02_2023  processed\n",
      "gp_18_06_24_2023  processed\n",
      "gp_18_07_07_2023  processed\n",
      "gp_19_06_24_2023  processed\n",
      "gp_19_08_02_2023  processed\n",
      "gp_19_08_12_2023  processed\n",
      "gp_19_08_25_2023  processed\n",
      "gp_19_09_01_2023  processed\n",
      "gp_20_06_24_2023  processed\n",
      "gp_20_08_02_2023  processed\n",
      "gp_20_08_12_2023  processed\n",
      "gp_20_08_25_2023  processed\n",
      "gp_20_09_07_2023  processed\n",
      "gp_20_09_20_2023  processed\n",
      "gp_20_10_02_2023  processed\n",
      "gp_21_06_24_2023  processed\n",
      "gp_21_07_07_2023  processed\n",
      "gp_22_06_24_2023  processed\n",
      "gp_22_07_07_2023  processed\n",
      "gp_24_06_24_2023  processed\n",
      "gp_24_07_07_2023  processed\n",
      "tf_1017_07_07_2023  processed\n",
      "tf_1017_07_23_2023  processed\n",
      "tf_1017_08_10_2023  processed\n",
      "tf_1017_08_24_2023  processed\n",
      "tf_1026_06_25_2023  processed\n",
      "tf_1026_07_07_2023  processed\n",
      "tf_1026_07_23_2023  processed\n",
      "tf_1026_08_10_2023  processed\n",
      "tf_1026_08_24_2023  processed\n",
      "tf_1033_06_25_2023  processed\n",
      "tf_1033_07_07_2023  processed\n",
      "tf_1033_07_23_2023  processed\n",
      "tf_1033_08_10_2023  processed\n",
      "tf_1033_08_24_2023  processed\n",
      "tf_1042_06_25_2023  processed\n",
      "tf_1042_07_07_2023  processed\n",
      "tf_1042_07_23_2023  processed\n",
      "tf_1042_08_10_2023  processed\n",
      "tf_1042_08_24_2023  processed\n",
      "tf_1051_06_25_2023  processed\n",
      "tf_1051_07_07_2023  processed\n",
      "tf_1051_07_23_2023  processed\n",
      "tf_1051_08_10_2023  processed\n",
      "tf_1051_08_24_2023  processed\n",
      "tf_1064_06_25_2023  processed\n",
      "tf_1064_07_07_2023  processed\n",
      "tf_1064_07_23_2023  processed\n",
      "tf_1064_08_10_2023  processed\n",
      "tf_1064_08_24_2023  processed\n",
      "tf_1075_06_25_2023  processed\n",
      "tf_1075_07_07_2023  processed\n",
      "tf_1075_07_23_2023  processed\n",
      "tf_1075_08_10_2023  processed\n",
      "tf_1075_08_24_2023  processed\n",
      "tf_2016_06_25_2023  processed\n",
      "tf_2016_07_07_2023  processed\n",
      "tf_2016_07_23_2023  processed\n",
      "tf_2016_08_10_2023  processed\n",
      "tf_2016_08_24_2023  processed\n",
      "tf_2027_07_07_2023  processed\n",
      "tf_2027_07_23_2023  processed\n",
      "tf_2027_08_10_2023  processed\n",
      "tf_2027_08_24_2023  processed\n",
      "tf_2035_06_25_2023  processed\n",
      "tf_2035_07_07_2023  processed\n",
      "tf_2035_07_23_2023  processed\n",
      "tf_2035_08_10_2023  processed\n",
      "tf_2035_08_24_2023  processed\n",
      "tf_2043_06_25_2023  processed\n",
      "tf_2043_07_07_2023  processed\n",
      "tf_2043_07_23_2023  processed\n",
      "tf_2043_08_10_2023  processed\n",
      "tf_2043_08_24_2023  processed\n",
      "tf_2051_06_25_2023  processed\n",
      "tf_2051_07_07_2023  processed\n",
      "tf_2051_07_23_2023  processed\n",
      "tf_2051_08_10_2023  processed\n",
      "tf_2051_08_24_2023  processed\n",
      "tf_2062_06_25_2023  processed\n",
      "tf_2062_07_07_2023  processed\n",
      "tf_2062_07_23_2023  processed\n",
      "tf_2062_08_10_2023  processed\n",
      "tf_2062_08_24_2023  processed\n",
      "tf_2074_06_25_2023  processed\n",
      "tf_2074_07_07_2023  processed\n",
      "tf_2074_07_23_2023  processed\n",
      "tf_2074_08_10_2023  processed\n",
      "tf_2074_08_24_2023  processed\n",
      "tf_10171_06_25_2023  processed\n",
      "tf_10172_06_25_2023  processed\n",
      "tf_10173_06_25_2023  processed\n",
      "tf_20271_06_25_2023  processed\n",
      "tf_20272_06_25_2023  processed\n",
      "tf_20273_06_25_2023  processed\n",
      "gp_02_06_24_2023  processed\n",
      "gp_03_06_24_2023  processed\n",
      "gp_03_08_02_2023  processed\n",
      "gp_03_08_12_2023  processed\n",
      "gp_03_08_25_2023  processed\n",
      "gp_03_09_07_2023  processed\n",
      "gp_03_09_20_2023  processed\n",
      "gp_03_10_04_2023  processed\n",
      "gp_04_06_24_2023  processed\n",
      "gp_04_08_02_2023  processed\n",
      "gp_04_08_12_2023  processed\n",
      "gp_04_08_25_2023  processed\n",
      "gp_04_09_07_2023  processed\n",
      "gp_04_09_20_2023  processed\n",
      "gp_04_10_04_2023  processed\n",
      "gp_05_06_24_2023  processed\n",
      "gp_05_08_02_2023  processed\n",
      "gp_05_08_12_2023  processed\n",
      "gp_05_08_25_2023  processed\n",
      "gp_05_09_01_2023  processed\n",
      "gp_06_06_24_2023  processed\n",
      "gp_06_08_02_2023  processed\n",
      "gp_06_08_12_2023  processed\n",
      "gp_06_08_25_2023  processed\n",
      "gp_06_09_01_2023  processed\n",
      "gp_07_06_24_2023  processed\n",
      "gp_07_08_02_2023  processed\n",
      "gp_08_06_24_2023  processed\n",
      "gp_08_08_02_2023  processed\n",
      "gp_09_06_24_2023  processed\n",
      "pw_12B4_07_06_2023  processed\n",
      "pw_12B4_07_24_2023  processed\n",
      "pw_12B4_08_11_2023  processed\n",
      "pw_12B41_06_25_2023  processed\n",
      "pw_12B42_06_25_2023  processed\n",
      "pw_12B43_06_25_2023  processed\n",
      "sw_22A29_06_25_2023  processed\n",
      "sw_28A1_06_25_2023  processed\n",
      "sw_49B29_06_25_2023  processed\n",
      "sw_50B1_06_25_2023  processed\n",
      "pw_24C4_07_06_2023  processed\n",
      "pw_24C4_07_24_2023  processed\n",
      "pw_24C4_08_11_2023  processed\n",
      "pw_24C41_06_25_2023  processed\n",
      "pw_24C42_06_25_2023  processed\n",
      "pw_24C43_06_25_2023  processed\n",
      "sw_72C29_06_25_2023  processed\n",
      "sw_82C1_06_25_2023  processed\n",
      "sw_22A29_07_06_2023  processed\n",
      "sw_28A1_07_06_2023  processed\n",
      "pw_35A4_07_06_2023  processed\n",
      "pw_35A4_07_24_2023  processed\n",
      "pw_35A4_08_11_2023  processed\n",
      "pw_35A41_06_25_2023  processed\n",
      "pw_35A42_06_25_2023  processed\n",
      "pw_35A43_06_25_2023  processed\n",
      "sw_49B29_07_06_2023  processed\n",
      "sw_50B1_07_06_2023  processed\n",
      "sw_72C29_07_06_2023  processed\n",
      "sw_82C1_07_06_2023  processed\n",
      "sw_22A29_07_24_2023  processed\n",
      "sw_28A1_07_24_2023  processed\n",
      "sw_49B29_07_24_2023  processed\n",
      "sw_50B1_07_24_2023  processed\n",
      "sw_72C29_07_24_2023  processed\n",
      "sw_82C1_07_24_2023  processed\n",
      "sw_22A29_08_11_2023  processed\n",
      "sw_28A1_08_11_2023  processed\n",
      "sw_49B29_08_11_2023  processed\n",
      "sw_50B1_08_11_2023  processed\n",
      "sw_72C29_08_11_2023  processed\n",
      "sw_82C1_08_11_2023  processed\n",
      "ta_Big_Beef_Day_Zero  processed\n",
      "ta_German_Johnson_Day_Zero  processed\n",
      "ta_Mambo_Day_Zero  processed\n",
      "pv_R1C4_07_04_2023  processed\n",
      "pv_R1C4_07_21_2023  processed\n",
      "pv_R1C4_08_12_2023  processed\n",
      "pv_R1C4_08_26_2023  processed\n",
      "pv_R1C4_09_08_2023  processed\n",
      "pv_R1C4_09_21_2023  processed\n",
      "pv_R1C4_10_05_2023  processed\n",
      "pv_R1C4_10_20_2023  processed\n",
      "pv_R1C41_06_22_2023  processed\n",
      "pv_R1C42_06_22_2023  processed\n",
      "pv_R1C43_06_22_2023  processed\n",
      "pv_R1C44_06_22_2023  processed\n",
      "pv_R1C45_06_22_2023  processed\n",
      "pv_R1C7_07_04_2023  processed\n",
      "pv_R1C7_07_21_2023  processed\n",
      "pv_R1C7_08_12_2023  processed\n",
      "pv_R1C7_08_26_2023  processed\n",
      "pv_R1C7_09_08_2023  processed\n",
      "pv_R1C7_09_21_2023  processed\n",
      "pv_R1C7_10_05_2023  processed\n",
      "pv_R1C7_10_20_2023  processed\n",
      "pv_R1C71_06_22_2023  processed\n",
      "pv_R1C72_06_22_2023  processed\n",
      "pv_R1C73_06_22_2023  processed\n",
      "pv_R1C74_06_22_2023  processed\n",
      "pv_R1C75_06_22_2023  processed\n",
      "pv_R2C4_07_04_2023  processed\n",
      "pv_R2C4_07_21_2023  processed\n",
      "pv_R2C4_08_12_2023  processed\n",
      "pv_R2C4_08_26_2023  processed\n",
      "pv_R2C4_09_08_2023  processed\n",
      "pv_R2C4_09_21_2023  processed\n",
      "pv_R2C4_10_05_2023  processed\n",
      "pv_R2C4_10_20_2023  processed\n",
      "pv_R2C41_06_22_2023  processed\n",
      "pv_R2C42_06_22_2023  processed\n",
      "pv_R2C43_06_22_2023  processed\n",
      "pv_R2C44_06_22_2023  processed\n",
      "pv_R2C45_06_22_2023  processed\n",
      "pv_R2C7_07_04_2023  processed\n",
      "pv_R2C7_07_21_2023  processed\n",
      "pv_R2C7_08_12_2023  processed\n",
      "pv_R2C7_08_26_2023  processed\n",
      "pv_R2C7_09_08_2023  processed\n",
      "pv_R2C7_09_21_2023  processed\n",
      "pv_R2C7_10_05_2023  processed\n",
      "pv_R2C7_10_20_2023  processed\n",
      "pv_R2C71_06_22_2023  processed\n",
      "pv_R2C72_06_22_2023  processed\n",
      "pv_R2C73_06_22_2023  processed\n",
      "pv_R2C74_06_22_2023  processed\n",
      "pv_R2C75_06_22_2023  processed\n",
      "pv_R3C4_07_04_2023  processed\n",
      "pv_R3C4_07_21_2023  processed\n",
      "pv_R3C4_08_12_2023  processed\n",
      "pv_R3C4_08_26_2023  processed\n",
      "pv_R3C4_09_08_2023  processed\n",
      "pv_R3C4_09_21_2023  processed\n",
      "pv_R3C4_10_05_2023  processed\n",
      "pv_R3C4_10_20_2023  processed\n",
      "pv_R3C41_06_22_2023  processed\n",
      "pv_R3C42_06_22_2023  processed\n",
      "pv_R3C43_06_22_2023  processed\n",
      "pv_R3C44_06_22_2023  processed\n",
      "pv_R3C45_06_22_2023  processed\n",
      "pv_R3C7_07_04_2023  processed\n",
      "pv_R3C7_07_21_2023  processed\n",
      "pv_R3C7_08_12_2023  processed\n",
      "pv_R3C7_08_26_2023  processed\n",
      "pv_R3C7_09_08_2023  processed\n",
      "pv_R3C7_09_21_2023  processed\n",
      "pv_R3C7_10_05_2023  processed\n",
      "pv_R3C7_10_20_2023  processed\n",
      "pv_R3C71_06_22_2023  processed\n",
      "pv_R3C72_06_22_2023  processed\n",
      "pv_R3C73_06_22_2023  processed\n",
      "pv_R3C74_06_22_2023  processed\n",
      "pv_R3C75_06_22_2023  processed\n",
      "pv_R4C4_07_04_2023  processed\n",
      "pv_R4C4_07_21_2023  processed\n",
      "pv_R4C4_08_12_2023  processed\n",
      "pv_R4C4_08_26_2023  processed\n",
      "pv_R4C4_09_08_2023  processed\n",
      "pv_R4C4_09_21_2023  processed\n",
      "pv_R4C4_10_05_2023  processed\n",
      "pv_R4C4_10_20_2023  processed\n",
      "pv_R4C41_06_22_2023  processed\n",
      "pv_R4C42_06_22_2023  processed\n",
      "pv_R4C43_06_22_2023  processed\n",
      "pv_R4C44_06_22_2023  processed\n",
      "pv_R4C45_06_22_2023  processed\n",
      "pv_R4C7_07_04_2023  processed\n",
      "pv_R4C7_07_21_2023  processed\n",
      "pv_R4C7_08_12_2023  processed\n",
      "pv_R4C7_08_26_2023  processed\n",
      "pv_R4C7_09_08_2023  processed\n",
      "pv_R4C7_09_21_2023  processed\n",
      "pv_R4C7_10_05_2023  processed\n",
      "pv_R4C7_10_20_2023  processed\n",
      "pv_R4C71_06_22_2023  processed\n",
      "pv_R4C72_06_22_2023  processed\n",
      "pv_R4C73_06_22_2023  processed\n",
      "pv_R4C74_06_22_2023  processed\n",
      "pv_R4C75_06_22_2023  processed\n",
      "ta_Red_Deuce_Day_Zero  processed\n",
      "ta_Sugar_Baby_Day_Zero  processed\n"
     ]
    }
   ],
   "source": [
    "# Apply function to df\n",
    "df = df.apply(process_row, axis=1)"
   ]
  },
  {
   "cell_type": "code",
   "execution_count": 6,
   "metadata": {},
   "outputs": [
    {
     "name": "stdout",
     "output_type": "stream",
     "text": [
      "count       295.000000\n",
      "mean     243647.657627\n",
      "std       99039.026093\n",
      "min        8661.000000\n",
      "25%      180549.000000\n",
      "50%      230191.000000\n",
      "75%      282787.000000\n",
      "max      724749.000000\n",
      "Name: npts, dtype: float64\n"
     ]
    }
   ],
   "source": [
    "print(df['npts'].describe())"
   ]
  },
  {
   "cell_type": "code",
   "execution_count": 7,
   "metadata": {},
   "outputs": [],
   "source": [
    "# Create a df for each trial\n",
    "gdf = df.loc[df['trial'] == 'Garden_Plots']\n",
    "tdf = df.loc[df['trial'] == 'Tomato_Fertilizer_Trial']\n",
    "wdf = df.loc[df['trial'] == 'Watermelon_Variety_Trial']\n",
    "adf = df.loc[df['trial'] == 'Transplant-Age_Plants']\n",
    "pdf = df.loc[df['trial'] == 'Pepper_Variety_Trial']"
   ]
  },
  {
   "cell_type": "code",
   "execution_count": 8,
   "metadata": {},
   "outputs": [
    {
     "name": "stdout",
     "output_type": "stream",
     "text": [
      "Garden Plot Scans:  70\n",
      "Tomato Fertilizer Scans:  74\n",
      "Watermelon Variety Scans:  42\n",
      "Transplant-Age Plants Scans:  5\n",
      "Pepper Variety Scans:  104\n"
     ]
    }
   ],
   "source": [
    "# Number of scans per trial\n",
    "print('Garden Plot Scans: ', len(gdf))\n",
    "print('Tomato Fertilizer Scans: ', len(tdf))\n",
    "print('Watermelon Variety Scans: ', len(wdf))\n",
    "print('Transplant-Age Plants Scans: ', len(adf))\n",
    "print('Pepper Variety Scans: ', len(pdf))"
   ]
  },
  {
   "cell_type": "code",
   "execution_count": 9,
   "metadata": {},
   "outputs": [
    {
     "name": "stdout",
     "output_type": "stream",
     "text": [
      "Total Average Points:  243647.65762711863\n",
      "Garden Plot Average Points:  211766.2\n",
      "Tomato Fertilizer Average Points:  226284.5\n",
      "Watermelon Variety Average Points:  266636.0714285714\n",
      "Transplant-Age Plants Average Points:  102238.6\n",
      "Pepper Variety Average Points:  274975.6153846154\n"
     ]
    }
   ],
   "source": [
    "# Average number of points per trial\n",
    "print('Total Average Points: ', df['npts'].mean())\n",
    "print('Garden Plot Average Points: ', gdf['npts'].mean())\n",
    "print('Tomato Fertilizer Average Points: ', tdf['npts'].mean())\n",
    "print('Watermelon Variety Average Points: ', wdf['npts'].mean())\n",
    "print('Transplant-Age Plants Average Points: ', adf['npts'].mean())\n",
    "print('Pepper Variety Average Points: ', pdf['npts'].mean())"
   ]
  },
  {
   "cell_type": "code",
   "execution_count": 10,
   "metadata": {},
   "outputs": [
    {
     "name": "stdout",
     "output_type": "stream",
     "text": [
      "Total Average NND:  0.0018257371856365738\n",
      "Garden Plot Average NND:  0.0012923112774603904\n",
      "Tomato Fertilizer Average NND:  0.0016383467305599666\n",
      "Watermelon Variety Average NND:  0.0031287957019309537\n",
      "Transplant-Age Plants Average NND:  0.0002477951080984423\n",
      "Pepper Variety Average NND:  0.0018677368005531934\n"
     ]
    }
   ],
   "source": [
    "# Average nearest neighbor distance per trial\n",
    "print('Total Average NND: ', df['nnd'].mean())\n",
    "print('Garden Plot Average NND: ', gdf['nnd'].mean())\n",
    "print('Tomato Fertilizer Average NND: ', tdf['nnd'].mean())\n",
    "print('Watermelon Variety Average NND: ', wdf['nnd'].mean())\n",
    "print('Transplant-Age Plants Average NND: ', adf['nnd'].mean())\n",
    "print('Pepper Variety Average NND: ', pdf['nnd'].mean())"
   ]
  },
  {
   "cell_type": "code",
   "execution_count": 11,
   "metadata": {},
   "outputs": [
    {
     "name": "stdout",
     "output_type": "stream",
     "text": [
      "Total Average CH Vol:  1.1369876432040786\n",
      "Garden Plot Average CH Vol:  0.6115974922388904\n",
      "Tomato Fertilizer Average CH Vol:  0.507278405745656\n",
      "Watermelon Variety Average CH Vol:  3.960313477851975\n",
      "Transplant-Age Plants Average CH Vol:  0.010682511021876796\n",
      "Pepper Variety Average CH Vol:  0.8526379772924033\n"
     ]
    }
   ],
   "source": [
    "# Average convex hull volume per trial\n",
    "print('Total Average CH Vol: ', df['ch_vol'].mean())\n",
    "print('Garden Plot Average CH Vol: ', gdf['ch_vol'].mean())\n",
    "print('Tomato Fertilizer Average CH Vol: ', tdf['ch_vol'].mean())\n",
    "print('Watermelon Variety Average CH Vol: ', wdf['ch_vol'].mean())\n",
    "print('Transplant-Age Plants Average CH Vol: ', adf['ch_vol'].mean())\n",
    "print('Pepper Variety Average CH Vol: ', pdf['ch_vol'].mean())"
   ]
  },
  {
   "cell_type": "code",
   "execution_count": 12,
   "metadata": {},
   "outputs": [
    {
     "name": "stdout",
     "output_type": "stream",
     "text": [
      "Total Average Npts/Vol:  1938978.2274091474\n",
      "Garden Plot Average Npts/Vol:  3216580.3688895795\n",
      "Tomato Fertilizer Average Npts/Vol:  678326.343141979\n",
      "Watermelon Variety Average Npts/Vol:  164600.00891907784\n",
      "Transplant-Age Plants Average Npts/Vol:  11234348.343195448\n",
      "Pepper Variety Average Npts/Vol:  2245739.036349451\n"
     ]
    }
   ],
   "source": [
    "# Average number of points per unit volume per trial\n",
    "print('Total Average Npts/Vol: ', df['npts_vol'].mean())\n",
    "print('Garden Plot Average Npts/Vol: ', gdf['npts_vol'].mean())\n",
    "print('Tomato Fertilizer Average Npts/Vol: ', tdf['npts_vol'].mean())\n",
    "print('Watermelon Variety Average Npts/Vol: ', wdf['npts_vol'].mean())\n",
    "print('Transplant-Age Plants Average Npts/Vol: ', adf['npts_vol'].mean())\n",
    "print('Pepper Variety Average Npts/Vol: ', pdf['npts_vol'].mean())"
   ]
  },
  {
   "cell_type": "code",
   "execution_count": 13,
   "metadata": {},
   "outputs": [
    {
     "name": "stdout",
     "output_type": "stream",
     "text": [
      "Total Pearson r:  PearsonRResult(statistic=-0.09986882524485491, pvalue=0.08684062389865176)\n",
      "Garden Plot Pearson r:  PearsonRResult(statistic=0.27240061528061266, pvalue=0.02252727478655255)\n",
      "Tomato Fertilizer Pearson r:  PearsonRResult(statistic=-0.21549159712884502, pvalue=0.06519804002394722)\n",
      "Watermelon Variety Pearson r:  PearsonRResult(statistic=-0.17471840230160782, pvalue=0.26843567262724405)\n",
      "Transplant-Age Plants Pearson r:  PearsonRResult(statistic=-0.1552793642109918, pvalue=0.803089582935939)\n",
      "Pepper Variety Pearson r:  PearsonRResult(statistic=-0.7592136354563681, pvalue=9.720040801794547e-21)\n"
     ]
    }
   ],
   "source": [
    "# Get pearson r for npts and nnd\n",
    "print('Total Pearson r: ', stats.pearsonr(df['npts'], df['nnd']))\n",
    "print('Garden Plot Pearson r: ', stats.pearsonr(gdf['npts'], gdf['nnd']))\n",
    "print('Tomato Fertilizer Pearson r: ', stats.pearsonr(tdf['npts'], tdf['nnd']))\n",
    "print('Watermelon Variety Pearson r: ', stats.pearsonr(wdf['npts'], wdf['nnd']))\n",
    "print('Transplant-Age Plants Pearson r: ', stats.pearsonr(adf['npts'], adf['nnd']))\n",
    "print('Pepper Variety Pearson r: ', stats.pearsonr(pdf['npts'], pdf['nnd']))"
   ]
  },
  {
   "cell_type": "code",
   "execution_count": 14,
   "metadata": {},
   "outputs": [
    {
     "name": "stdout",
     "output_type": "stream",
     "text": [
      "Total Spearman r:  SignificanceResult(statistic=-0.103390100471443, pvalue=0.07622897175442749)\n",
      "Garden Plot Spearman r:  SignificanceResult(statistic=0.4085103404836056, pvalue=0.00044674757768475956)\n",
      "Tomato Fertilizer Spearman r:  SignificanceResult(statistic=-0.2416604343674867, pvalue=0.03805122423867614)\n",
      "Watermelon Variety Spearman r:  SignificanceResult(statistic=-0.1439915728060935, pvalue=0.3629471222277947)\n",
      "Transplant-Age Plants Spearman r:  SignificanceResult(statistic=-0.39999999999999997, pvalue=0.5046315754686911)\n",
      "Pepper Variety Spearman r:  SignificanceResult(statistic=-0.7948469006721435, pvalue=7.332816100642754e-24)\n"
     ]
    }
   ],
   "source": [
    "# Get spearman r for npts and nnd\n",
    "print('Total Spearman r: ', stats.spearmanr(df['npts'], df['nnd']))\n",
    "print('Garden Plot Spearman r: ', stats.spearmanr(gdf['npts'], gdf['nnd']))\n",
    "print('Tomato Fertilizer Spearman r: ', stats.spearmanr(tdf['npts'], tdf['nnd']))\n",
    "print('Watermelon Variety Spearman r: ', stats.spearmanr(wdf['npts'], wdf['nnd']))\n",
    "print('Transplant-Age Plants Spearman r: ', stats.spearmanr(adf['npts'], adf['nnd']))\n",
    "print('Pepper Variety Spearman r: ', stats.spearmanr(pdf['npts'], pdf['nnd']))"
   ]
  },
  {
   "cell_type": "code",
   "execution_count": 15,
   "metadata": {},
   "outputs": [
    {
     "name": "stdout",
     "output_type": "stream",
     "text": [
      "Total Pearson r:  PearsonRResult(statistic=0.10750707189615737, pvalue=0.06518271748284497)\n",
      "Garden Plot Pearson r:  PearsonRResult(statistic=0.33725280905733523, pvalue=0.004303572663118179)\n",
      "Tomato Fertilizer Pearson r:  PearsonRResult(statistic=0.3425852319447672, pvalue=0.002809623333636005)\n",
      "Watermelon Variety Pearson r:  PearsonRResult(statistic=0.1270340322445465, pvalue=0.42273518650884007)\n",
      "Transplant-Age Plants Pearson r:  PearsonRResult(statistic=0.8930977622912265, pvalue=0.04127856115017488)\n",
      "Pepper Variety Pearson r:  PearsonRResult(statistic=-0.5987140399187377, pvalue=1.908253673088173e-11)\n"
     ]
    }
   ],
   "source": [
    "# Get pearson r for npts and ch_vol\n",
    "print('Total Pearson r: ', stats.pearsonr(df['npts'], df['ch_vol']))\n",
    "print('Garden Plot Pearson r: ', stats.pearsonr(gdf['npts'], gdf['ch_vol']))\n",
    "print('Tomato Fertilizer Pearson r: ', stats.pearsonr(tdf['npts'], tdf['ch_vol']))\n",
    "print('Watermelon Variety Pearson r: ', stats.pearsonr(wdf['npts'], wdf['ch_vol']))\n",
    "print('Transplant-Age Plants Pearson r: ', stats.pearsonr(adf['npts'], adf['ch_vol']))\n",
    "print('Pepper Variety Pearson r: ', stats.pearsonr(pdf['npts'], pdf['ch_vol']))"
   ]
  },
  {
   "cell_type": "code",
   "execution_count": 16,
   "metadata": {},
   "outputs": [
    {
     "name": "stdout",
     "output_type": "stream",
     "text": [
      "Total Spearman r:  SignificanceResult(statistic=0.15868801547019826, pvalue=0.006308263058273874)\n",
      "Garden Plot Spearman r:  SignificanceResult(statistic=0.5660846135003674, pvalue=3.268811112052243e-07)\n",
      "Tomato Fertilizer Spearman r:  SignificanceResult(statistic=0.46557916016944767, pvalue=2.9158950739223898e-05)\n",
      "Watermelon Variety Spearman r:  SignificanceResult(statistic=0.48140345190827327, pvalue=0.0012482860428895297)\n",
      "Transplant-Age_Plants Spearman r:  SignificanceResult(statistic=0.6, pvalue=0.28475697986529375)\n",
      "Pepper Variety Spearman r:  SignificanceResult(statistic=-0.4490984743411928, pvalue=1.7369417597373388e-06)\n"
     ]
    }
   ],
   "source": [
    "# Get spearman r for npts and ch_vol\n",
    "print('Total Spearman r: ', stats.spearmanr(df['npts'], df['ch_vol']))\n",
    "print('Garden Plot Spearman r: ', stats.spearmanr(gdf['npts'], gdf['ch_vol']))\n",
    "print('Tomato Fertilizer Spearman r: ', stats.spearmanr(tdf['npts'], tdf['ch_vol']))\n",
    "print('Watermelon Variety Spearman r: ', stats.spearmanr(wdf['npts'], wdf['ch_vol']))\n",
    "print('Transplant-Age_Plants Spearman r: ', stats.spearmanr(adf['npts'], adf['ch_vol']))\n",
    "print('Pepper Variety Spearman r: ', stats.spearmanr(pdf['npts'], pdf['ch_vol']))"
   ]
  },
  {
   "cell_type": "code",
   "execution_count": 17,
   "metadata": {},
   "outputs": [
    {
     "name": "stdout",
     "output_type": "stream",
     "text": [
      "Total Pearson r:  PearsonRResult(statistic=0.7637052313769748, pvalue=1.2491089859598834e-57)\n",
      "Garden Plot Pearson r:  PearsonRResult(statistic=0.8865174181333064, pvalue=1.8827306991097336e-24)\n",
      "Tomato Fertilizer Pearson r:  PearsonRResult(statistic=0.7341143641170127, pvalue=9.929528005308792e-14)\n",
      "Watermelon Variety Pearson r:  PearsonRResult(statistic=0.8942014028828766, pvalue=1.5216890696985733e-15)\n",
      "Transplant-Age Plants Pearson r:  PearsonRResult(statistic=0.2644261845768191, pvalue=0.6672878266025944)\n",
      "Pepper Variety Pearson r:  PearsonRResult(statistic=0.9276019768634695, pvalue=2.044027644348291e-45)\n"
     ]
    }
   ],
   "source": [
    "# Get pearson r for nnd and ch_vol\n",
    "print('Total Pearson r: ', stats.pearsonr(df['nnd'], df['ch_vol']))\n",
    "print('Garden Plot Pearson r: ', stats.pearsonr(gdf['nnd'], gdf['ch_vol']))\n",
    "print('Tomato Fertilizer Pearson r: ', stats.pearsonr(tdf['nnd'], tdf['ch_vol']))\n",
    "print('Watermelon Variety Pearson r: ', stats.pearsonr(wdf['nnd'], wdf['ch_vol']))\n",
    "print('Transplant-Age Plants Pearson r: ', stats.pearsonr(adf['nnd'], adf['ch_vol']))\n",
    "print('Pepper Variety Pearson r: ', stats.pearsonr(pdf['nnd'], pdf['ch_vol']))"
   ]
  },
  {
   "cell_type": "code",
   "execution_count": 18,
   "metadata": {},
   "outputs": [
    {
     "name": "stdout",
     "output_type": "stream",
     "text": [
      "Total Spearman r:  SignificanceResult(statistic=0.896368949388351, pvalue=1.5858257956767235e-105)\n",
      "Garden Plot Spearman r:  SignificanceResult(statistic=0.9342828148511041, pvalue=3.5931481920455165e-32)\n",
      "Tomato Fertilizer Spearman r:  SignificanceResult(statistic=0.5190225842280636, pvalue=2.1611246415596646e-06)\n",
      "Watermelon Variety Spearman r:  SignificanceResult(statistic=0.6993760635280772, pvalue=2.5675554096773816e-07)\n",
      "Transplant-Age Plants Spearman r:  SignificanceResult(statistic=0.19999999999999998, pvalue=0.747060078104662)\n",
      "Pepper Variety Spearman r:  SignificanceResult(statistic=0.783015043209218, pvalue=9.268823998687664e-23)\n"
     ]
    }
   ],
   "source": [
    "# Get spearman r for nnd and ch_vol\n",
    "print('Total Spearman r: ', stats.spearmanr(df['nnd'], df['ch_vol']))\n",
    "print('Garden Plot Spearman r: ', stats.spearmanr(gdf['nnd'], gdf['ch_vol']))\n",
    "print('Tomato Fertilizer Spearman r: ', stats.spearmanr(tdf['nnd'], tdf['ch_vol']))\n",
    "print('Watermelon Variety Spearman r: ', stats.spearmanr(wdf['nnd'], wdf['ch_vol']))\n",
    "print('Transplant-Age Plants Spearman r: ', stats.spearmanr(adf['nnd'], adf['ch_vol']))\n",
    "print('Pepper Variety Spearman r: ', stats.spearmanr(pdf['nnd'], pdf['ch_vol']))"
   ]
  },
  {
   "cell_type": "code",
   "execution_count": 19,
   "metadata": {},
   "outputs": [
    {
     "name": "stdout",
     "output_type": "stream",
     "text": [
      "Index(['plot_id', 'date_dir', 'trial_dir', 'file_path', 'date', 'sample_id',\n",
      "       'species', 'scan_level', 'plants_per_group', 'group_proportion',\n",
      "       'bounding_width', 'bounding_depth', 'bounding_height', 'hue',\n",
      "       'saturation', 'value', 'k_neighbors', 'n_std_ratio', 'k_s',\n",
      "       's_std_ratio', 'problem', 'problem_type', 's_priority', 'trial', 'npts',\n",
      "       'nnd', 'ch_vol', 'npts_vol'],\n",
      "      dtype='object')\n"
     ]
    }
   ],
   "source": [
    "print(df.columns)"
   ]
  },
  {
   "cell_type": "code",
   "execution_count": 20,
   "metadata": {},
   "outputs": [],
   "source": [
    "# Save points df\n",
    "df.drop(['file_path', 'bounding_width', 'bounding_depth', 'bounding_height', 'hue',\n",
    "         'saturation', 'value', 'k_neighbors', 'n_std_ratio', 'k_s', 's_std_ratio',\n",
    "         'problem', 'problem_type'], axis=1, inplace=True)\n",
    "df.to_csv('pts_directory.csv', index=False)"
   ]
  },
  {
   "cell_type": "code",
   "execution_count": 21,
   "metadata": {},
   "outputs": [],
   "source": [
    "# Create summary stats df\n",
    "s_cols = ['trial', 'samples', 'npts', 'npts_sd', \n",
    "          'nnd', 'nnd_sd', 'ch_vol', 'ch_vol_sd', 'npts_vol', 'npts_vol_sd',\n",
    "          'r_npts_nnd', 'r_npts_ch_vol', 'r_nnd_ch_vol', 'r_npts_vol_nnd',\n",
    "           'p_npts_nnd', 'p_npts_ch_vol', 'p_nnd_ch_vol', 'p_npts_vol_nnd']\n",
    "summary_df = pd.DataFrame(columns=s_cols)"
   ]
  },
  {
   "cell_type": "code",
   "execution_count": 22,
   "metadata": {},
   "outputs": [],
   "source": [
    "# Create species-level dfs\n",
    "tadf = df.loc[df['species'] == 'tomato']\n",
    "wadf = df.loc[df['species'] == 'watermelon']"
   ]
  },
  {
   "cell_type": "code",
   "execution_count": 23,
   "metadata": {},
   "outputs": [],
   "source": [
    "# Define function to process each trial\n",
    "\n",
    "def process_trial(trialdf, trial_name):\n",
    "    global summary_df, s_cols\n",
    "\n",
    "    row = pd.DataFrame(columns=s_cols)\n",
    "    row['trial'] = [trial_name]\n",
    "    row['samples'] = [len(trialdf)]\n",
    "    row['npts'] = [trialdf['npts'].mean()]\n",
    "    row['npts_sd'] = [trialdf['npts'].std()]\n",
    "    row['nnd'] = [trialdf['nnd'].mean()]\n",
    "    row['nnd_sd'] = [trialdf['nnd'].std()]\n",
    "    row['ch_vol'] = [trialdf['ch_vol'].mean()]\n",
    "    row['ch_vol_sd'] = [trialdf['ch_vol'].std()]\n",
    "    row['npts_vol'] = [trialdf['npts_vol'].mean()]\n",
    "    row['npts_vol_sd'] = [trialdf['npts_vol'].std()]\n",
    "    row['r_npts_nnd'] = [stats.pearsonr(trialdf['npts'], trialdf['nnd'])[0]]\n",
    "    row['r_npts_ch_vol'] = [stats.pearsonr(trialdf['npts'], trialdf['ch_vol'])[0]]\n",
    "    row['r_nnd_ch_vol'] = [stats.pearsonr(trialdf['nnd'], trialdf['ch_vol'])[0]]\n",
    "    row['r_npts_vol_nnd'] = [stats.pearsonr(trialdf['npts_vol'], trialdf['nnd'])[0]]\n",
    "    row['p_npts_nnd'] = [stats.pearsonr(trialdf['npts'], trialdf['nnd'])[1]]\n",
    "    row['p_npts_ch_vol'] = [stats.pearsonr(trialdf['npts'], trialdf['ch_vol'])[1]]\n",
    "    row['p_nnd_ch_vol'] = [stats.pearsonr(trialdf['nnd'], trialdf['ch_vol'])[1]]\n",
    "    row['p_npts_vol_nnd'] = [stats.pearsonr(trialdf['npts_vol'], trialdf['nnd'])[1]]\n",
    "\n",
    "    summary_df = pd.concat([row, summary_df], ignore_index=True)\n",
    "\n",
    "    return"
   ]
  },
  {
   "cell_type": "code",
   "execution_count": 24,
   "metadata": {},
   "outputs": [
    {
     "name": "stderr",
     "output_type": "stream",
     "text": [
      "C:\\Users\\Steven\\AppData\\Local\\Temp\\ipykernel_8848\\2505801450.py:26: FutureWarning: The behavior of DataFrame concatenation with empty or all-NA entries is deprecated. In a future version, this will no longer exclude empty or all-NA columns when determining the result dtypes. To retain the old behavior, exclude the relevant entries before the concat operation.\n",
      "  summary_df = pd.concat([row, summary_df], ignore_index=True)\n"
     ]
    }
   ],
   "source": [
    "# Apply function to each trial\n",
    "trial_list = [[df, 'All_Scans'],\n",
    "              [gdf, 'Garden_Plots'],\n",
    "              [tdf, 'Tomato_Fertilizer_Trial'],\n",
    "              [wdf, 'Watermelon_Variety_Trial'],\n",
    "              [adf, 'Transplant-Age_Plants'],\n",
    "              [pdf, 'Pepper_Variety_Trial'],\n",
    "              [tadf, 'All_Tomato'],\n",
    "              [wadf, 'All_Watermelon']]\n",
    "\n",
    "for trial in trial_list:\n",
    "    process_trial(trial[0], trial[1])\n",
    "\n",
    "summary_df['npts'] = summary_df['npts'].astype(int)\n",
    "summary_df['npts_sd'] = summary_df['npts_sd'].astype(int)\n",
    "summary_df['nnd'] = summary_df['nnd'].round(5)\n",
    "summary_df['nnd_sd'] = summary_df['nnd_sd'].round(5)\n",
    "summary_df['ch_vol'] = summary_df['ch_vol'].round(3)\n",
    "summary_df['ch_vol_sd'] = summary_df['ch_vol_sd'].round(3)\n",
    "summary_df['npts_vol'] = summary_df['npts_vol'].round(3)\n",
    "summary_df['npts_vol_sd'] = summary_df['npts_vol_sd'].round(3)\n",
    "summary_df['r_npts_nnd'] = summary_df['r_npts_nnd'].round(2)\n",
    "summary_df['r_npts_ch_vol'] = summary_df['r_npts_ch_vol'].round(2)\n",
    "summary_df['r_nnd_ch_vol'] = summary_df['r_nnd_ch_vol'].round(2)\n",
    "summary_df['r_npts_vol_nnd'] = summary_df['r_npts_vol_nnd'].round(2)\n",
    "summary_df['p_npts_nnd'] = summary_df['p_npts_nnd'].round(3)\n",
    "summary_df['p_npts_ch_vol'] = summary_df['p_npts_ch_vol'].round(3)\n",
    "summary_df['p_nnd_ch_vol'] = summary_df['p_nnd_ch_vol'].round(3)\n",
    "summary_df['p_npts_vol_nnd'] = summary_df['p_npts_vol_nnd'].round(3)\n"
   ]
  },
  {
   "cell_type": "code",
   "execution_count": 25,
   "metadata": {},
   "outputs": [
    {
     "name": "stdout",
     "output_type": "stream",
     "text": [
      "                      trial samples    npts  npts_sd      nnd   nnd_sd  \\\n",
      "0            All_Watermelon      66  241668   144979  0.00247  0.00175   \n",
      "1                All_Tomato     125  218627    75923  0.00145  0.00060   \n",
      "2      Pepper_Variety_Trial     104  274975    77720  0.00187  0.00116   \n",
      "3     Transplant-Age_Plants       5  102238    38856  0.00025  0.00005   \n",
      "4  Watermelon_Variety_Trial      42  266636   133520  0.00313  0.00168   \n",
      "5   Tomato_Fertilizer_Trial      74  226284    72222  0.00164  0.00046   \n",
      "6              Garden_Plots      70  211766   109421  0.00129  0.00085   \n",
      "7                 All_Scans     295  243647    99039  0.00183  0.00121   \n",
      "\n",
      "   ch_vol  ch_vol_sd      npts_vol  npts_vol_sd  r_npts_nnd  r_npts_ch_vol  \\\n",
      "0   2.860      4.424  2.116557e+06  5953473.772        0.13           0.21   \n",
      "1   0.464      0.291  1.589992e+06  3446183.442        0.04           0.33   \n",
      "2   0.853      0.668  2.245739e+06  2807451.080       -0.76          -0.60   \n",
      "3   0.011      0.008  1.123435e+07  4149071.753       -0.16           0.89   \n",
      "4   3.960      5.183  1.646000e+05   112358.163       -0.17           0.13   \n",
      "5   0.507      0.175  6.783263e+05   878563.193       -0.22           0.34   \n",
      "6   0.612      0.778  3.216580e+06  6451561.431        0.27           0.34   \n",
      "7   1.137      2.325  1.938978e+06  3962155.991       -0.10           0.11   \n",
      "\n",
      "   r_nnd_ch_vol  r_npts_vol_nnd  p_npts_nnd  p_npts_ch_vol  p_nnd_ch_vol  \\\n",
      "0          0.86           -0.42       0.310          0.096         0.000   \n",
      "1          0.81           -0.66       0.635          0.000         0.000   \n",
      "2          0.93           -0.90       0.000          0.000         0.000   \n",
      "3          0.26           -0.59       0.803          0.041         0.667   \n",
      "4          0.89           -0.88       0.268          0.423         0.000   \n",
      "5          0.73           -0.81       0.065          0.003         0.000   \n",
      "6          0.89           -0.53       0.023          0.004         0.000   \n",
      "7          0.76           -0.52       0.087          0.065         0.000   \n",
      "\n",
      "   p_npts_vol_nnd  \n",
      "0           0.000  \n",
      "1           0.000  \n",
      "2           0.000  \n",
      "3           0.297  \n",
      "4           0.000  \n",
      "5           0.000  \n",
      "6           0.000  \n",
      "7           0.000  \n"
     ]
    }
   ],
   "source": [
    "print(summary_df)"
   ]
  },
  {
   "cell_type": "code",
   "execution_count": 26,
   "metadata": {},
   "outputs": [],
   "source": [
    "# Save summary df\n",
    "summary_df.to_csv('summary_stats.csv', index=False)"
   ]
  },
  {
   "cell_type": "code",
   "execution_count": 27,
   "metadata": {},
   "outputs": [],
   "source": [
    "df = pd.read_csv('pts_directory.csv')"
   ]
  },
  {
   "cell_type": "code",
   "execution_count": 28,
   "metadata": {},
   "outputs": [],
   "source": [
    "# Convert nearest neighbor distance to mm\n",
    "df['nnd'] = df['nnd']*1000"
   ]
  },
  {
   "cell_type": "code",
   "execution_count": 29,
   "metadata": {},
   "outputs": [],
   "source": [
    "# create species-level dfs\n",
    "tadf = df.loc[df['species'] == 'tomato']\n",
    "wadf = df.loc[df['species'] == 'watermelon']\n",
    "pdf = df.loc[df['species'] == 'pepper']"
   ]
  },
  {
   "cell_type": "code",
   "execution_count": 30,
   "metadata": {},
   "outputs": [
    {
     "name": "stdout",
     "output_type": "stream",
     "text": [
      "count    66.000000\n",
      "mean      2.470798\n",
      "std       1.748011\n",
      "min       0.183305\n",
      "25%       1.273340\n",
      "50%       2.264849\n",
      "75%       3.329940\n",
      "max       6.166098\n",
      "Name: nnd, dtype: float64\n"
     ]
    }
   ],
   "source": [
    "print(wadf['nnd'].describe())"
   ]
  },
  {
   "cell_type": "code",
   "execution_count": 31,
   "metadata": {},
   "outputs": [
    {
     "data": {
      "image/png": "[encoded data removed]",
      "text/plain": [
       "<Figure size 640x480 with 1 Axes>"
      ]
     },
     "metadata": {},
     "output_type": "display_data"
    }
   ],
   "source": [
    "# Plot npts vs nnd for each trial\n",
    "fig, ax = plt.subplots()\n",
    "marker_size = 10\n",
    "ax.scatter(pdf['npts'], pdf['nnd'], marker=\"^\", color='gold', label='Pepper', s=marker_size)\n",
    "ax.scatter(tadf['npts'], tadf['nnd'], marker=\"s\", color='red', label='Tomato', s=marker_size)\n",
    "ax.scatter(wadf['npts'], wadf['nnd'], marker=\"o\", color='green', label='Watermelon', s=marker_size)\n",
    "ax.set_xlabel('Number of Points')\n",
    "ax.set_ylabel('Nearest Neighbor Distance (mm)')\n",
    "ax.set_title('Nearest Neighbor Distance Versus Number of Points')\n",
    "ax.legend()\n",
    "plt.savefig('plot_figs\\\\npts_nnd.jpg', dpi=300)"
   ]
  },
  {
   "cell_type": "code",
   "execution_count": 32,
   "metadata": {},
   "outputs": [
    {
     "data": {
      "image/png": "[encoded data removed]",
      "text/plain": [
       "<Figure size 640x480 with 1 Axes>"
      ]
     },
     "metadata": {},
     "output_type": "display_data"
    }
   ],
   "source": [
    "# Plot npts vs ch_vol for each trial\n",
    "fig, ax = plt.subplots()\n",
    "marker_size = 10\n",
    "ax.scatter(pdf['npts'], pdf['ch_vol'], marker=\"^\", color='gold', label='Pepper', s=marker_size)\n",
    "ax.scatter(tadf['npts'], tadf['ch_vol'], marker=\"s\", color='red', label='Tomato', s=marker_size)\n",
    "ax.scatter(wadf['npts'], wadf['ch_vol'], marker=\"o\", color='green', label='Watermelon', s=marker_size)\n",
    "ax.set_xlabel('Number of Points')\n",
    "ax.set_ylabel('Convex Hull Volume (m^3)')\n",
    "ax.set_title('Convex Hull Volume Versus Number of Points')\n",
    "ax.legend()\n",
    "plt.savefig('plot_figs\\\\npts_ch_vol.jpg', dpi=300)"
   ]
  },
  {
   "cell_type": "code",
   "execution_count": 179,
   "metadata": {},
   "outputs": [],
   "source": [
    "# Define power function\n",
    "def func(x, a, b, c):\n",
    "    return a * x**b - c"
   ]
  },
  {
   "cell_type": "code",
   "execution_count": 191,
   "metadata": {},
   "outputs": [
    {
     "name": "stdout",
     "output_type": "stream",
     "text": [
      "[2.64386974 0.34544621 0.42284664]\n",
      "0.8772152728955337\n"
     ]
    }
   ],
   "source": [
    "# Run curve fit for ch_vol vs nnd\n",
    "xdata = df['ch_vol']\n",
    "ydata = df['nnd']\n",
    "popta, pcov = curve_fit(func, xdata, ydata)\n",
    "print(popta)\n",
    "# get r2\n",
    "y_pred = func(xdata, *popta)\n",
    "r2 = r2_score(ydata, y_pred)\n",
    "print(r2)"
   ]
  },
  {
   "cell_type": "code",
   "execution_count": 192,
   "metadata": {},
   "outputs": [
    {
     "name": "stdout",
     "output_type": "stream",
     "text": [
      "0.90\n",
      "0.30\n"
     ]
    }
   ],
   "source": [
    "# Set test and train splits\n",
    "random.seed(42)\n",
    "train_size = 0.8\n",
    "test_size = 0.2\n",
    "X1_train, X1_test, y1_train, y1_test = train_test_split(df['ch_vol'], df['nnd'], train_size=train_size, test_size=test_size)\n",
    "\n",
    "popta, pcov = curve_fit(func, X1_train, y1_train)\n",
    "r2a = r2_score(y1_test, func(X1_test, *popta))\n",
    "rmsea = np.sqrt(np.mean((y1_test - func(X1_test, *popta))**2))\n",
    "# create a string for r2a with 2 decimal places\n",
    "r2s = format(r2a, '.2f')\n",
    "# create a string for rmsea with 2 decimal places\n",
    "rmses = format(rmsea, '.2f')\n",
    "print(r2s)\n",
    "print(rmses)"
   ]
  },
  {
   "cell_type": "code",
   "execution_count": 194,
   "metadata": {},
   "outputs": [
    {
     "data": {
      "image/png": "[encoded data removed]",
      "text/plain": [
       "<Figure size 640x480 with 1 Axes>"
      ]
     },
     "metadata": {},
     "output_type": "display_data"
    }
   ],
   "source": [
    "# Plot nnd vs ch_vol for each trial\n",
    "fig, ax = plt.subplots()\n",
    "marker_size = 10\n",
    "lx = np.linspace(xdata.min(), xdata.max(), 100)\n",
    "facecolor_translucent = (0.1, 0.1, 0.1, 0.001)\n",
    "edgecolor_translucent = (0.1, 0.1, 0.1, 0.4)\n",
    "ax.scatter(pdf['ch_vol'],pdf['nnd'],  \n",
    "           marker=\"^\", \n",
    "           facecolors=facecolor_translucent,\n",
    "           edgecolors=edgecolor_translucent,\n",
    "           label='Pepper', \n",
    "           s=marker_size)\n",
    "ax.scatter(tadf['ch_vol'], tadf['nnd'], \n",
    "           marker=\"s\", \n",
    "           facecolors=facecolor_translucent,\n",
    "           edgecolors=edgecolor_translucent,\n",
    "           label='Tomato', \n",
    "           s=marker_size)\n",
    "ax.scatter(wadf['ch_vol'], wadf['nnd'], \n",
    "           marker=\"o\", \n",
    "           facecolors=facecolor_translucent,\n",
    "           edgecolors=edgecolor_translucent,\n",
    "           label='Watermelon', \n",
    "           s=marker_size)\n",
    "ax.plot(lx, func(lx, *popta), 'k-', label='Regression Line')\n",
    "ax.set_ylabel('Nearest Neighbor Distance (mm)')\n",
    "ax.set_xlabel('Convex Hull Volume ($m^3$)')\n",
    "ax.set_title('Convex Hull Volume Versus Nearest Neighbor Distance')\n",
    "# Add legend to bottom right of the plot\n",
    "ax.legend(loc='lower right')\n",
    "# Add equation to left of the plot\n",
    "eq = r'$y = {a:.2f} \\cdot x^{{{b:.2f}}} - {c:.2f}$'.format(a=popta[0], b=popta[1], c=popta[2])\n",
    "# Add r2 value to left of the plot\n",
    "r2 = '$R^2$ = {r}, RMSE = {rmse}'.format(r=r2s, rmse=rmses)\n",
    "ax.text(0.10, 0.9, eq, ha='left', va='baseline', transform=ax.transAxes)\n",
    "ax.text(0.10, 0.85, r2, ha='left', va='baseline', transform=ax.transAxes)\n",
    "plt.savefig('plot_figs\\\\nnd_ch_vol.jpg', dpi=300)"
   ]
  },
  {
   "cell_type": "code",
   "execution_count": 86,
   "metadata": {},
   "outputs": [
    {
     "name": "stderr",
     "output_type": "stream",
     "text": [
      "C:\\Users\\Steven\\AppData\\Local\\Temp\\ipykernel_8848\\4014877959.py:3: SettingWithCopyWarning: \n",
      "A value is trying to be set on a copy of a slice from a DataFrame.\n",
      "Try using .loc[row_indexer,col_indexer] = value instead\n",
      "\n",
      "See the caveats in the documentation: https://pandas.pydata.org/pandas-docs/stable/user_guide/indexing.html#returning-a-view-versus-a-copy\n",
      "  pdf['log_npts_vol'] = np.log10(pdf['npts_vol'])\n",
      "C:\\Users\\Steven\\AppData\\Local\\Temp\\ipykernel_8848\\4014877959.py:4: SettingWithCopyWarning: \n",
      "A value is trying to be set on a copy of a slice from a DataFrame.\n",
      "Try using .loc[row_indexer,col_indexer] = value instead\n",
      "\n",
      "See the caveats in the documentation: https://pandas.pydata.org/pandas-docs/stable/user_guide/indexing.html#returning-a-view-versus-a-copy\n",
      "  tadf['log_npts_vol'] = np.log10(tadf['npts_vol'])\n",
      "C:\\Users\\Steven\\AppData\\Local\\Temp\\ipykernel_8848\\4014877959.py:5: SettingWithCopyWarning: \n",
      "A value is trying to be set on a copy of a slice from a DataFrame.\n",
      "Try using .loc[row_indexer,col_indexer] = value instead\n",
      "\n",
      "See the caveats in the documentation: https://pandas.pydata.org/pandas-docs/stable/user_guide/indexing.html#returning-a-view-versus-a-copy\n",
      "  wadf['log_npts_vol'] = np.log10(wadf['npts_vol'])\n",
      "C:\\Users\\Steven\\AppData\\Local\\Temp\\ipykernel_8848\\4014877959.py:8: SettingWithCopyWarning: \n",
      "A value is trying to be set on a copy of a slice from a DataFrame.\n",
      "Try using .loc[row_indexer,col_indexer] = value instead\n",
      "\n",
      "See the caveats in the documentation: https://pandas.pydata.org/pandas-docs/stable/user_guide/indexing.html#returning-a-view-versus-a-copy\n",
      "  pdf['log_ch_vol'] = np.log10(pdf['ch_vol'])\n",
      "C:\\Users\\Steven\\AppData\\Local\\Temp\\ipykernel_8848\\4014877959.py:9: SettingWithCopyWarning: \n",
      "A value is trying to be set on a copy of a slice from a DataFrame.\n",
      "Try using .loc[row_indexer,col_indexer] = value instead\n",
      "\n",
      "See the caveats in the documentation: https://pandas.pydata.org/pandas-docs/stable/user_guide/indexing.html#returning-a-view-versus-a-copy\n",
      "  tadf['log_ch_vol'] = np.log10(tadf['ch_vol'])\n",
      "C:\\Users\\Steven\\AppData\\Local\\Temp\\ipykernel_8848\\4014877959.py:10: SettingWithCopyWarning: \n",
      "A value is trying to be set on a copy of a slice from a DataFrame.\n",
      "Try using .loc[row_indexer,col_indexer] = value instead\n",
      "\n",
      "See the caveats in the documentation: https://pandas.pydata.org/pandas-docs/stable/user_guide/indexing.html#returning-a-view-versus-a-copy\n",
      "  wadf['log_ch_vol'] = np.log10(wadf['ch_vol'])\n"
     ]
    }
   ],
   "source": [
    "# Create a column for log npts_vol\n",
    "df['log_npts_vol'] = np.log10(df['npts_vol'])\n",
    "pdf['log_npts_vol'] = np.log10(pdf['npts_vol'])\n",
    "tadf['log_npts_vol'] = np.log10(tadf['npts_vol'])\n",
    "wadf['log_npts_vol'] = np.log10(wadf['npts_vol'])\n",
    "# Create a column for log ch_vol\n",
    "df['log_ch_vol'] = np.log10(df['ch_vol'])\n",
    "pdf['log_ch_vol'] = np.log10(pdf['ch_vol'])\n",
    "tadf['log_ch_vol'] = np.log10(tadf['ch_vol'])\n",
    "wadf['log_ch_vol'] = np.log10(wadf['ch_vol'])"
   ]
  },
  {
   "cell_type": "code",
   "execution_count": 49,
   "metadata": {},
   "outputs": [
    {
     "name": "stderr",
     "output_type": "stream",
     "text": [
      "C:\\Users\\Steven\\AppData\\Local\\Temp\\ipykernel_8848\\3690882299.py:3: SettingWithCopyWarning: \n",
      "A value is trying to be set on a copy of a slice from a DataFrame.\n",
      "Try using .loc[row_indexer,col_indexer] = value instead\n",
      "\n",
      "See the caveats in the documentation: https://pandas.pydata.org/pandas-docs/stable/user_guide/indexing.html#returning-a-view-versus-a-copy\n",
      "  pdf['npts_vol_cm3'] = pdf['npts_vol']/1000000\n",
      "C:\\Users\\Steven\\AppData\\Local\\Temp\\ipykernel_8848\\3690882299.py:4: SettingWithCopyWarning: \n",
      "A value is trying to be set on a copy of a slice from a DataFrame.\n",
      "Try using .loc[row_indexer,col_indexer] = value instead\n",
      "\n",
      "See the caveats in the documentation: https://pandas.pydata.org/pandas-docs/stable/user_guide/indexing.html#returning-a-view-versus-a-copy\n",
      "  tadf['npts_vol_cm3'] = tadf['npts_vol']/1000000\n",
      "C:\\Users\\Steven\\AppData\\Local\\Temp\\ipykernel_8848\\3690882299.py:5: SettingWithCopyWarning: \n",
      "A value is trying to be set on a copy of a slice from a DataFrame.\n",
      "Try using .loc[row_indexer,col_indexer] = value instead\n",
      "\n",
      "See the caveats in the documentation: https://pandas.pydata.org/pandas-docs/stable/user_guide/indexing.html#returning-a-view-versus-a-copy\n",
      "  wadf['npts_vol_cm3'] = wadf['npts_vol']/1000000\n"
     ]
    }
   ],
   "source": [
    "# add a column for npts_vol for cm3 instead of m3\n",
    "df['npts_vol_cm3'] = df['npts_vol']/1000000\n",
    "pdf['npts_vol_cm3'] = pdf['npts_vol']/1000000\n",
    "tadf['npts_vol_cm3'] = tadf['npts_vol']/1000000\n",
    "wadf['npts_vol_cm3'] = wadf['npts_vol']/1000000"
   ]
  },
  {
   "cell_type": "code",
   "execution_count": 87,
   "metadata": {},
   "outputs": [
    {
     "name": "stderr",
     "output_type": "stream",
     "text": [
      "C:\\Users\\Steven\\AppData\\Local\\Temp\\ipykernel_8848\\1776444184.py:3: SettingWithCopyWarning: \n",
      "A value is trying to be set on a copy of a slice from a DataFrame.\n",
      "Try using .loc[row_indexer,col_indexer] = value instead\n",
      "\n",
      "See the caveats in the documentation: https://pandas.pydata.org/pandas-docs/stable/user_guide/indexing.html#returning-a-view-versus-a-copy\n",
      "  pdf['log_npts_vol_cm3'] = np.log10(pdf['npts_vol_cm3'])\n",
      "C:\\Users\\Steven\\AppData\\Local\\Temp\\ipykernel_8848\\1776444184.py:4: SettingWithCopyWarning: \n",
      "A value is trying to be set on a copy of a slice from a DataFrame.\n",
      "Try using .loc[row_indexer,col_indexer] = value instead\n",
      "\n",
      "See the caveats in the documentation: https://pandas.pydata.org/pandas-docs/stable/user_guide/indexing.html#returning-a-view-versus-a-copy\n",
      "  tadf['log_npts_vol_cm3'] = np.log10(tadf['npts_vol_cm3'])\n",
      "C:\\Users\\Steven\\AppData\\Local\\Temp\\ipykernel_8848\\1776444184.py:5: SettingWithCopyWarning: \n",
      "A value is trying to be set on a copy of a slice from a DataFrame.\n",
      "Try using .loc[row_indexer,col_indexer] = value instead\n",
      "\n",
      "See the caveats in the documentation: https://pandas.pydata.org/pandas-docs/stable/user_guide/indexing.html#returning-a-view-versus-a-copy\n",
      "  wadf['log_npts_vol_cm3'] = np.log10(wadf['npts_vol_cm3'])\n"
     ]
    }
   ],
   "source": [
    "# create a column for log npts_vol_cm3\n",
    "df['log_npts_vol_cm3'] = np.log10(df['npts_vol_cm3'])\n",
    "pdf['log_npts_vol_cm3'] = np.log10(pdf['npts_vol_cm3'])\n",
    "tadf['log_npts_vol_cm3'] = np.log10(tadf['npts_vol_cm3'])\n",
    "wadf['log_npts_vol_cm3'] = np.log10(wadf['npts_vol_cm3'])"
   ]
  },
  {
   "cell_type": "code",
   "execution_count": 88,
   "metadata": {},
   "outputs": [],
   "source": [
    "# Define power function 2\n",
    "def func2(x, a, b, c):\n",
    "    return a * x**b + c"
   ]
  },
  {
   "cell_type": "code",
   "execution_count": 152,
   "metadata": {},
   "outputs": [
    {
     "name": "stdout",
     "output_type": "stream",
     "text": [
      "[-5.33208533  0.08217316 10.73466997]\n",
      "0.9367412762555559\n"
     ]
    }
   ],
   "source": [
    "# Run curve fit for ch_vol vs log_npts_vol\n",
    "xdata = df['ch_vol']\n",
    "ydata = df['log_npts_vol']\n",
    "popta, pcov = curve_fit(func2, xdata, ydata)\n",
    "print(popta)\n",
    "# get r2\n",
    "y_pred = func2(xdata, *popta)\n",
    "r2 = r2_score(ydata, y_pred)\n",
    "print(r2)"
   ]
  },
  {
   "cell_type": "code",
   "execution_count": 165,
   "metadata": {},
   "outputs": [
    {
     "name": "stdout",
     "output_type": "stream",
     "text": [
      "0.95\n",
      "0.15\n"
     ]
    }
   ],
   "source": [
    "# Set test and train splits\n",
    "random.seed(42)\n",
    "train_size = 0.8\n",
    "test_size = 0.2\n",
    "X1_train, X1_test, y1_train, y1_test = train_test_split(df['ch_vol'], df['log_npts_vol'], train_size=train_size, test_size=test_size)\n",
    "\n",
    "popta, pcov = curve_fit(func2, X1_train, y1_train)\n",
    "r2a = r2_score(y1_test, func2(X1_test, *popta))\n",
    "rmsea = np.sqrt(np.mean((y1_test - func2(X1_test, *popta))**2))\n",
    "# create a string for r2a with 2 decimal places\n",
    "r2s = format(r2a, '.2f')\n",
    "# create a string for rmsea with 2 decimal places\n",
    "rmses = format(rmsea, '.2f')\n",
    "print(r2s)\n",
    "print(rmses)"
   ]
  },
  {
   "cell_type": "code",
   "execution_count": 166,
   "metadata": {},
   "outputs": [
    {
     "data": {
      "image/png": "[encoded data removed]",
      "text/plain": [
       "<Figure size 640x480 with 1 Axes>"
      ]
     },
     "metadata": {},
     "output_type": "display_data"
    }
   ],
   "source": [
    "# Plot ch_vol vs log_npts_vol for each trial\n",
    "\n",
    "fig, ax = plt.subplots()\n",
    "marker_size = 20\n",
    "lx = np.linspace(xdata.min(), xdata.max(), 100)\n",
    "facecolor_translucent = (0.1, 0.1, 0.1, 0.001)\n",
    "edgecolor_translucent = (0.1, 0.1, 0.1, 0.4)\n",
    "ax.scatter(pdf['ch_vol'],pdf['log_npts_vol'],  \n",
    "           marker=\"^\", \n",
    "           facecolors=facecolor_translucent,\n",
    "           edgecolors=edgecolor_translucent,\n",
    "           label='Pepper', \n",
    "           s=marker_size)\n",
    "ax.scatter(tadf['ch_vol'], tadf['log_npts_vol'], \n",
    "           marker=\"s\", \n",
    "           facecolors=facecolor_translucent,\n",
    "           edgecolors=edgecolor_translucent,\n",
    "           label='Tomato', \n",
    "           s=marker_size)\n",
    "ax.scatter(wadf['ch_vol'], wadf['log_npts_vol'], \n",
    "           marker=\"o\", \n",
    "           facecolors=facecolor_translucent,\n",
    "           edgecolors=edgecolor_translucent,\n",
    "           label='Watermelon', \n",
    "           s=marker_size)\n",
    "ax.plot(lx, func2(lx, *popta), 'k-', label='Regression Line')\n",
    "ax.set_xlabel('Convex Hull Volume ($m^3$)')\n",
    "ax.set_ylabel('$Log_{10}$ Point Density ($m^{-3}$)')\n",
    "ax.set_title('Convex Hull Volume Versus $Log_{10}$ Point Density')\n",
    "\n",
    "# Add equation to left of the plot\n",
    "eq = r'$y = {a:.2f} \\cdot x^{{{b:.2f}}} + {c:.2f}$'.format(a=popta[0], b=popta[1], c=popta[2])\n",
    "# Add r2 value to left of the plot\n",
    "r2a = '$R^2$ = {r}, RMSE = {rmse}'.format(r=r2s, rmse=rmses)\n",
    "ax.text(0.15, 0.9, eq, ha='left', va='baseline', transform=ax.transAxes)\n",
    "ax.text(0.15, 0.85, r2a, ha='left', va='baseline', transform=ax.transAxes)\n",
    "\n",
    "ax.legend()\n",
    "plt.savefig('plot_figs\\\\ch_vol_log_npts_vol.jpg', dpi=300)"
   ]
  },
  {
   "cell_type": "code",
   "execution_count": 36,
   "metadata": {},
   "outputs": [
    {
     "name": "stdout",
     "output_type": "stream",
     "text": [
      "[ 5.17153305e+02 -4.42481926e-01]\n"
     ]
    }
   ],
   "source": [
    "# Run curve fit for npts vs nnd\n",
    "xdata = df['npts_vol']\n",
    "ydata = df['nnd']\n",
    "poptb, pcov = curve_fit(func, xdata, ydata)\n",
    "print(poptb)"
   ]
  },
  {
   "cell_type": "code",
   "execution_count": 37,
   "metadata": {},
   "outputs": [
    {
     "data": {
      "image/png": "[encoded data removed]",
      "text/plain": [
       "<Figure size 640x480 with 1 Axes>"
      ]
     },
     "metadata": {},
     "output_type": "display_data"
    }
   ],
   "source": [
    "# Plot npts_vol vs nnd for each trial\n",
    "fig, ax = plt.subplots()\n",
    "marker_size = 10\n",
    "lx = np.linspace(xdata.min(), xdata.max(), 100)\n",
    "ax.scatter(pdf['npts_vol'], pdf['nnd'], marker=\"^\", color='gold', label='Pepper', s=marker_size)\n",
    "ax.scatter(tadf['npts_vol'], tadf['nnd'], marker=\"s\", color='red', label='Tomato', s=marker_size)\n",
    "ax.scatter(wadf['npts_vol'], wadf['nnd'], marker=\"o\", color='green', label='Watermelon', s=marker_size)\n",
    "ax.plot(lx, func(lx, *poptb), 'k-', label='Power Regression Fit')\n",
    "ax.set_xlabel('Point Density (m$^{-3}$)')\n",
    "ax.set_ylabel('Nearest Neighbor Distance (mm)')\n",
    "ax.set_title('Point Density Versus Nearest Neighbor Distance')\n",
    "ax.legend()\n",
    "plt.savefig('plot_figs\\\\npts_vol_nnd.jpg', dpi=300)"
   ]
  },
  {
   "cell_type": "code",
   "execution_count": 38,
   "metadata": {},
   "outputs": [],
   "source": [
    "# Set test and train splits\n",
    "random.seed(42)\n",
    "train_size = 0.8\n",
    "test_size = 0.2\n",
    "X1_train, X1_test, y1_train, y1_test = train_test_split(df['ch_vol'], df['nnd'], train_size=train_size, test_size=test_size)\n",
    "X2_train, X2_test, y2_train, y2_test = train_test_split(df['npts_vol'], df['nnd'], train_size=train_size, test_size=test_size)"
   ]
  },
  {
   "cell_type": "code",
   "execution_count": 39,
   "metadata": {},
   "outputs": [
    {
     "name": "stdout",
     "output_type": "stream",
     "text": [
      "r2 for nnd vs ch_vol:  0.8836732616402154\n",
      "rmse for nnd vs ch_vol:  0.4209217473429475\n",
      "r2 for nnd vs npts_vol:  0.9423949141495661\n",
      "rmse for nnd vs npts_vol:  0.2731876478977394\n"
     ]
    }
   ],
   "source": [
    "# Get r2 scores and rmse for both fits\n",
    "popta, pcov = curve_fit(func, X1_train, y1_train)\n",
    "r2a = r2_score(y1_test, func(X1_test, *popta))\n",
    "print('r2 for nnd vs ch_vol: ', r2a)\n",
    "rmsea = np.sqrt(np.mean((y1_test - func(X1_test, *popta))**2))\n",
    "print('rmse for nnd vs ch_vol: ', rmsea)\n",
    "poptb, pcov = curve_fit(func, X2_train, y2_train)\n",
    "r2b = r2_score(y2_test, func(X2_test, *poptb))\n",
    "print('r2 for nnd vs npts_vol: ', r2b)\n",
    "rmseb = np.sqrt(np.mean((y2_test - func(X2_test, *poptb))**2))\n",
    "print('rmse for nnd vs npts_vol: ', rmseb)"
   ]
  },
  {
   "cell_type": "code",
   "execution_count": 40,
   "metadata": {},
   "outputs": [],
   "source": [
    "# Create fit df\n",
    "fit_df = pd.DataFrame(columns=['x', 'y', 'a', 'b', 'r2', 'rmse'])\n",
    "fit_df['x'] = ['ch_vol', 'npts_vol']\n",
    "fit_df['y'] = ['nnd', 'nnd']\n",
    "fit_df['a'] = [popta[0], poptb[0]]\n",
    "fit_df['b'] = [popta[1], poptb[1]]\n",
    "fit_df['r2'] = [r2a, r2b]\n",
    "fit_df['rmse'] = [rmsea, rmseb]\n",
    "\n",
    "# Save fit df\n",
    "fit_df.to_csv('fit_df.csv', index=False)"
   ]
  }
 ],
 "metadata": {
  "kernelspec": {
   "display_name": "pcp_env2",
   "language": "python",
   "name": "python3"
  },
  "language_info": {
   "codemirror_mode": {
    "name": "ipython",
    "version": 3
   },
   "file_extension": ".py",
   "mimetype": "text/x-python",
   "name": "python",
   "nbconvert_exporter": "python",
   "pygments_lexer": "ipython3",
   "version": "3.9.19"
  }
 },
 "nbformat": 4,
 "nbformat_minor": 2
}
