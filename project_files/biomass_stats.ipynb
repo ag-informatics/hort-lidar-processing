{
 "cells": [
  {
   "cell_type": "code",
   "execution_count": 1,
   "metadata": {},
   "outputs": [],
   "source": [
    "import pandas as pd\n",
    "import numpy as np"
   ]
  },
  {
   "cell_type": "code",
   "execution_count": 2,
   "metadata": {},
   "outputs": [],
   "source": [
    "# Read in the data\n",
    "df = pd.read_csv('biomass_scrape_corrected.csv')"
   ]
  },
  {
   "cell_type": "code",
   "execution_count": 3,
   "metadata": {},
   "outputs": [
    {
     "name": "stdout",
     "output_type": "stream",
     "text": [
      "Index(['Sample ID', 'Plant ID', 'Cultivar', 'Species', 'Sampling Age',\n",
      "       'Sampling Date', 'Leaflet No', 'Leaf No', 'Stem and Rachi No',\n",
      "       'Stem No', 'Leaves Per Stem', 'Flower No', 'Total Fruit No', 'SLA',\n",
      "       'Leaf Biomass', 'Shoot Biomass', 'Flower Biomass', 'Ripe Fruit No',\n",
      "       'Ripe Fruit Biomass', 'Total Fruit Biomass', 'Aboveground Biomass'],\n",
      "      dtype='object')\n"
     ]
    }
   ],
   "source": [
    "print(df.columns)"
   ]
  },
  {
   "cell_type": "code",
   "execution_count": 4,
   "metadata": {},
   "outputs": [],
   "source": [
    "# sum leaf biomass, stem biomass, flower biomass, and total fruit biomass for each row\n",
    "df['aboveground_total_biomass'] = df['Leaf Biomass'] + df['Shoot Biomass'] + df['Flower Biomass'] + df['Total Fruit Biomass']"
   ]
  },
  {
   "cell_type": "code",
   "execution_count": 5,
   "metadata": {},
   "outputs": [],
   "source": [
    "# Set up summary dataframe\n",
    "s_cols = ['species', 'sampling_age', 'aboveground_veg_biomass', 'avb_r',\n",
    "        'leaf_biomass', 'lb_r',\n",
    "        'stem_biomass', 'sb_r',\n",
    "          'flower_biomass', 'fb_r',\n",
    "          'fruit_biomass', 'frb_r',\n",
    "          'leaf_number', 'ln_r',\n",
    "          'stem_number', 'sn_r',\n",
    "          'aboveground_total_biomass', 'atb_r']\n",
    "summary_df = pd.DataFrame(columns=s_cols)"
   ]
  },
  {
   "cell_type": "code",
   "execution_count": 6,
   "metadata": {},
   "outputs": [],
   "source": [
    "# Loop through each species and sampling age\n",
    "for species in df['Species'].unique():\n",
    "    for sampling_age in df['Sampling Age'].unique():\n",
    "        # Subset the dataframe\n",
    "        sub_df = df[(df['Species'] == species) & (df['Sampling Age'] == sampling_age)]\n",
    "        # Get the number of samples\n",
    "        n = len(sub_df)\n",
    "        if n != 0:\n",
    "            # Get the mean biomass values\n",
    "            aboveground_veg_biomass = round(np.mean(sub_df['Aboveground Biomass']), 2)\n",
    "            abvb_min = round(np.min(sub_df['Aboveground Biomass']), 2)\n",
    "            abvb_max = round(np.max(sub_df['Aboveground Biomass']), 2)\n",
    "            leaf_biomass = round(np.mean(sub_df['Leaf Biomass']), 2)\n",
    "            lb_min = round(np.min(sub_df['Leaf Biomass']), 2)\n",
    "            lb_max = round(np.max(sub_df['Leaf Biomass']), 2)\n",
    "            stem_biomass = round(np.mean(sub_df['Shoot Biomass']), 2)\n",
    "            sb_min = round(np.min(sub_df['Shoot Biomass']), 2)\n",
    "            sb_max = round(np.max(sub_df['Shoot Biomass']), 2)\n",
    "            flower_biomass = round(np.mean(sub_df['Flower Biomass']), 2)\n",
    "            fb_min = round(np.min(sub_df['Flower Biomass']), 2)\n",
    "            fb_max = round(np.max(sub_df['Flower Biomass']), 2)\n",
    "            fruit_biomass = round(np.mean(sub_df['Total Fruit Biomass']), 2)\n",
    "            frb_min = round(np.min(sub_df['Total Fruit Biomass']), 2)\n",
    "            frb_max = round(np.max(sub_df['Total Fruit Biomass']), 2)\n",
    "            leaf_number = int(np.mean(sub_df['Leaf No']))\n",
    "            ln_min = int(np.min(sub_df['Leaf No']))\n",
    "            ln_max = int(np.max(sub_df['Leaf No']))\n",
    "            stem_number = int(np.mean(sub_df['Stem No']))\n",
    "            sn_min = int(np.min(sub_df['Stem No']))\n",
    "            sn_max = int(np.max(sub_df['Stem No']))\n",
    "            aboveground_total_biomass = round(np.mean(sub_df['aboveground_total_biomass']), 2)\n",
    "            atb_min = round(np.min(sub_df['aboveground_total_biomass']), 2)\n",
    "            atb_max = round(np.max(sub_df['aboveground_total_biomass']), 2)\n",
    "\n",
    "            # Add to the summary dataframe\n",
    "            row = pd.DataFrame.from_dict({'species': species, 'sampling_age': sampling_age,\n",
    "                                            'aboveground_veg_biomass': aboveground_veg_biomass,\n",
    "                                            'avb_r': '{0}-{1}'.format(abvb_min, abvb_max),\n",
    "                                            'leaf_biomass': leaf_biomass,\n",
    "                                            'lb_r': '{0}-{1}'.format(lb_min, lb_max),\n",
    "                                            'stem_biomass': stem_biomass,\n",
    "                                            'sb_r': '{0}-{1}'.format(sb_min, sb_max),\n",
    "                                            'flower_biomass': flower_biomass,\n",
    "                                            'fb_r': '{0}-{1}'.format(fb_min, fb_max),\n",
    "                                            'fruit_biomass': fruit_biomass,\n",
    "                                            'frb_r': '{0}-{1}'.format(frb_min, frb_max),\n",
    "                                            'leaf_number': leaf_number,\n",
    "                                            'ln_r': '{0}-{1}'.format(ln_min, ln_max),\n",
    "                                            'stem_number': stem_number,\n",
    "                                            'sn_r': '{0}-{1}'.format(sn_min, sn_max),\n",
    "                                            'aboveground_total_biomass': aboveground_total_biomass,\n",
    "                                            'atb_r': '{0}-{1}'.format(atb_min, atb_max)},\n",
    "                                            orient='index')\n",
    "            row = row.transpose()\n",
    "            summary_df = pd.concat([summary_df, row], ignore_index=True)"
   ]
  },
  {
   "cell_type": "code",
   "execution_count": 7,
   "metadata": {},
   "outputs": [
    {
     "name": "stdout",
     "output_type": "stream",
     "text": [
      "      species sampling_age aboveground_veg_biomass          avb_r  \\\n",
      "0      Tomato            0                    4.62       3.0-7.58   \n",
      "1      Tomato            2                   15.68    13.41-17.94   \n",
      "2      Tomato            5                    57.0    40.44-66.55   \n",
      "3      Tomato           10                  260.81  142.89-419.69   \n",
      "4      Tomato           15                  426.35  199.18-724.07   \n",
      "5  Watermelon            0                    2.84      2.46-3.23   \n",
      "6  Watermelon            2                    14.4    12.54-16.27   \n",
      "8  Watermelon            4                     3.9      1.88-5.91   \n",
      "9  Watermelon            9                  479.34  433.62-525.05   \n",
      "7  Watermelon           15                  616.69  458.63-774.76   \n",
      "\n",
      "  leaf_biomass           lb_r stem_biomass           sb_r flower_biomass  \\\n",
      "0          2.1      1.26-3.64         2.52       1.6-3.94           0.06   \n",
      "1          7.9      7.01-8.79         7.78       6.4-9.15            0.9   \n",
      "2        25.24    17.23-31.54        31.75    23.21-37.04           0.27   \n",
      "3       106.04   48.11-197.67       154.77   94.78-222.02           1.08   \n",
      "4       181.68   85.12-315.53       244.66  114.06-408.54            1.8   \n",
      "5         1.46      1.11-1.81         1.38      1.35-1.42            0.0   \n",
      "6        10.17     8.99-11.35         4.23      3.55-4.92           0.53   \n",
      "8         2.14      1.15-3.13         1.76      0.73-2.78           0.03   \n",
      "9        273.9  253.83-293.97       205.44  179.79-231.08            1.1   \n",
      "7       324.67  245.22-404.11       292.03  213.41-370.65           0.87   \n",
      "\n",
      "        fb_r fruit_biomass           frb_r leaf_number      ln_r stem_number  \\\n",
      "0   0.0-0.16          1.24        0.0-3.73          10      9-14           1   \n",
      "1  0.69-1.12           2.4         0.0-4.8           9      9-10           1   \n",
      "2  0.15-0.33         17.87      2.99-42.91          16     11-23           1   \n",
      "3  0.52-1.72        199.55    85.62-359.03          68    18-138           4   \n",
      "4  0.86-2.64        496.13   256.34-827.49          94    37-169           5   \n",
      "5   0.0-0.01           0.0         0.0-0.0          17     14-20           2   \n",
      "6  0.25-0.81           0.0         0.0-0.0         102    96-109          40   \n",
      "8   0.0-0.06           0.0         0.0-0.0          53     17-90          11   \n",
      "9   0.81-1.4        599.21   357.97-840.45         826   758-894          51   \n",
      "7  0.55-1.19       1828.38  853.27-2803.48         988  834-1142          41   \n",
      "\n",
      "    sn_r aboveground_total_biomass            atb_r  \n",
      "0    1-2                      5.93        3.16-7.58  \n",
      "1    1-1                     18.98       18.9-19.06  \n",
      "2    1-2                     75.14     43.58-109.78  \n",
      "3    2-7                    461.44     298.6-779.73  \n",
      "4    2-9                    924.28    457.43-1554.2  \n",
      "5    2-3                      2.85        2.47-3.23  \n",
      "6  39-41                     14.93      12.79-17.08  \n",
      "8   4-18                      3.92        1.88-5.97  \n",
      "9  41-61                   1079.65   883.83-1275.47  \n",
      "7  28-54                   2445.94  1312.45-3579.43  \n"
     ]
    }
   ],
   "source": [
    "summary_df.sort_values(by=['species', 'sampling_age'], inplace=True)\n",
    "print(summary_df)"
   ]
  },
  {
   "cell_type": "code",
   "execution_count": 8,
   "metadata": {},
   "outputs": [],
   "source": [
    "# Write to csv\n",
    "summary_df.to_csv('biomass_summary.csv', index=False)"
   ]
  }
 ],
 "metadata": {
  "kernelspec": {
   "display_name": "pcp_env",
   "language": "python",
   "name": "python3"
  },
  "language_info": {
   "codemirror_mode": {
    "name": "ipython",
    "version": 3
   },
   "file_extension": ".py",
   "mimetype": "text/x-python",
   "name": "python",
   "nbconvert_exporter": "python",
   "pygments_lexer": "ipython3",
   "version": "3.9.18"
  }
 },
 "nbformat": 4,
 "nbformat_minor": 2
}
