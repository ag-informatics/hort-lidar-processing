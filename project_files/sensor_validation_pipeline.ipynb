{
 "cells": [
  {
   "cell_type": "code",
   "execution_count": 2,
   "metadata": {},
   "outputs": [],
   "source": [
    "import pandas as pd\n",
    "import open3d as o3d\n",
    "import numpy as np\n",
    "from sklearn.metrics import mean_absolute_percentage_error\n",
    "from scipy.stats import ttest_ind\n",
    "from scipy.stats import ttest_rel\n",
    "from scipy.stats import shapiro\n",
    "import scipy.stats as stats\n",
    "import matplotlib.pyplot as plt\n",
    "from scipy.stats import skewtest\n",
    "from scipy.stats import mannwhitneyu\n",
    "from scipy.stats import wilcoxon\n",
    "from scipy.optimize import curve_fit\n",
    "from sklearn.metrics import r2_score\n",
    "import random\n",
    "from sklearn.model_selection import train_test_split"
   ]
  },
  {
   "cell_type": "code",
   "execution_count": 3,
   "metadata": {},
   "outputs": [],
   "source": [
    "# Import data\n",
    "df = pd.read_csv('plant_height.csv', converters={'Record': str, 'plot_id':str})\n",
    "\n",
    "# Set new column names\n",
    "df['sensor_height'] = np.nan\n",
    "df['error'] = np.nan\n",
    "df['physical_height'] = df['Height (cm)']/100"
   ]
  },
  {
   "cell_type": "code",
   "execution_count": 4,
   "metadata": {},
   "outputs": [
    {
     "name": "stdout",
     "output_type": "stream",
     "text": [
      "   Record         Trial Collection Date Collection Level  Height (cm) plot_id  \\\n",
      "45     06  Garden Plots       8/12/2023            Plant          145      06   \n",
      "46     01  Garden Plots       8/12/2023            Plant          123      01   \n",
      "47     16  Garden Plots       8/12/2023            Plant          117      16   \n",
      "48     19  Garden Plots       8/12/2023            Plant          121      19   \n",
      "49     20  Garden Plots       8/12/2023            Plant          126      20   \n",
      "\n",
      "               date_dir     trial_dir  sensor_height  error  physical_height  \n",
      "45  Sampling_08_12_2023  Garden_Plots            NaN    NaN             1.45  \n",
      "46  Sampling_08_12_2023  Garden_Plots            NaN    NaN             1.23  \n",
      "47  Sampling_08_12_2023  Garden_Plots            NaN    NaN             1.17  \n",
      "48  Sampling_08_12_2023  Garden_Plots            NaN    NaN             1.21  \n",
      "49  Sampling_08_12_2023  Garden_Plots            NaN    NaN             1.26  \n"
     ]
    }
   ],
   "source": [
    "print(df.tail())"
   ]
  },
  {
   "cell_type": "code",
   "execution_count": 5,
   "metadata": {},
   "outputs": [],
   "source": [
    "# Get sensor plant height\n",
    "def get_sensor_height(row):\n",
    "    \n",
    "    # set directory\n",
    "    inf='{a}\\{b}\\{c}\\sor_plant_{d}.ply'.format(a=row['trial_dir'],\n",
    "                                            b=row['date_dir'],\n",
    "                                            c=row['plot_id'],\n",
    "                                            d=row['Record'])\n",
    "    \n",
    "    # Read file\n",
    "    pcd = o3d.io.read_point_cloud(inf)\n",
    "\n",
    "    # Get points\n",
    "    points = np.asarray(pcd.points)\n",
    "\n",
    "    # Get height\n",
    "    min_coords = np.min(points, axis=0)\n",
    "    max_coords = np.max(points, axis=0)\n",
    "    sensor_height = max_coords[2] - min_coords[2]\n",
    "\n",
    "    # Add row values\n",
    "    row['sensor_height'] = sensor_height\n",
    "    row['error'] = sensor_height - row['physical_height']\n",
    "\n",
    "    return row"
   ]
  },
  {
   "cell_type": "code",
   "execution_count": 6,
   "metadata": {},
   "outputs": [],
   "source": [
    "# Apply function to df\n",
    "df = df.apply(get_sensor_height, axis=1)"
   ]
  },
  {
   "cell_type": "code",
   "execution_count": 7,
   "metadata": {},
   "outputs": [],
   "source": [
    "# Add a percent error column\n",
    "df['percent_error'] = df['error'] / df['physical_height'] * 100"
   ]
  },
  {
   "cell_type": "code",
   "execution_count": 8,
   "metadata": {},
   "outputs": [
    {
     "name": "stdout",
     "output_type": "stream",
     "text": [
      "<class 'pandas.core.frame.DataFrame'>\n",
      "RangeIndex: 50 entries, 0 to 49\n",
      "Data columns (total 12 columns):\n",
      " #   Column            Non-Null Count  Dtype  \n",
      "---  ------            --------------  -----  \n",
      " 0   Record            50 non-null     object \n",
      " 1   Trial             50 non-null     object \n",
      " 2   Collection Date   50 non-null     object \n",
      " 3   Collection Level  50 non-null     object \n",
      " 4   Height (cm)       50 non-null     int64  \n",
      " 5   plot_id           50 non-null     object \n",
      " 6   date_dir          50 non-null     object \n",
      " 7   trial_dir         50 non-null     object \n",
      " 8   sensor_height     50 non-null     float64\n",
      " 9   error             50 non-null     float64\n",
      " 10  physical_height   50 non-null     float64\n",
      " 11  percent_error     50 non-null     float64\n",
      "dtypes: float64(4), int64(1), object(7)\n",
      "memory usage: 4.8+ KB\n",
      "None\n"
     ]
    }
   ],
   "source": [
    "print(df.info())"
   ]
  },
  {
   "cell_type": "code",
   "execution_count": 9,
   "metadata": {},
   "outputs": [
    {
     "name": "stdout",
     "output_type": "stream",
     "text": [
      "  Record                    Trial Collection Date Collection Level  \\\n",
      "0  10171  Tomato Fertilizer Trial       8/10/2023            Plant   \n",
      "1  10172  Tomato Fertilizer Trial       8/10/2023            Plant   \n",
      "2  10173  Tomato Fertilizer Trial       8/10/2023            Plant   \n",
      "3  10261  Tomato Fertilizer Trial       8/10/2023            Plant   \n",
      "4  10262  Tomato Fertilizer Trial       8/10/2023            Plant   \n",
      "\n",
      "   Height (cm) plot_id             date_dir                trial_dir  \\\n",
      "0           67    1017  Sampling_08_10_2023  Tomato_Fertilizer_Trial   \n",
      "1           71    1017  Sampling_08_10_2023  Tomato_Fertilizer_Trial   \n",
      "2           65    1017  Sampling_08_10_2023  Tomato_Fertilizer_Trial   \n",
      "3           69    1026  Sampling_08_10_2023  Tomato_Fertilizer_Trial   \n",
      "4           68    1026  Sampling_08_10_2023  Tomato_Fertilizer_Trial   \n",
      "\n",
      "   sensor_height   error  physical_height  percent_error  \n",
      "0         0.6456 -0.0244             0.67      -3.641788  \n",
      "1         0.6656 -0.0444             0.71      -6.253521  \n",
      "2         0.6225 -0.0275             0.65      -4.230769  \n",
      "3         0.6675 -0.0225             0.69      -3.260873  \n",
      "4         0.6960  0.0160             0.68       2.352941  \n"
     ]
    }
   ],
   "source": [
    "print(df.head())"
   ]
  },
  {
   "cell_type": "code",
   "execution_count": 10,
   "metadata": {},
   "outputs": [],
   "source": [
    "# root mean squared error function\n",
    "def rmse(predictions, targets):\n",
    "    return np.sqrt(((predictions - targets) ** 2).mean())"
   ]
  },
  {
   "cell_type": "code",
   "execution_count": 11,
   "metadata": {},
   "outputs": [],
   "source": [
    "# relative root mean squared error function\n",
    "def rrmse(predictions, targets):\n",
    "    return np.sqrt(((predictions - targets) ** 2).mean())/targets.mean()"
   ]
  },
  {
   "cell_type": "code",
   "execution_count": 12,
   "metadata": {},
   "outputs": [
    {
     "name": "stdout",
     "output_type": "stream",
     "text": [
      "Tomato Fertilizer Trial RMSE: 0.06555178433708392\n",
      "Tomato Fertilizer Trial RRMSE: 0.09065442680795273\n"
     ]
    }
   ],
   "source": [
    "# rmse tomato fertilizer trial\n",
    "tfdf = df[df['trial_dir'] == 'Tomato_Fertilizer_Trial']\n",
    "tfrmse = rmse(tfdf['sensor_height'], tfdf['physical_height'])\n",
    "tfrrmse = rrmse(tfdf['sensor_height'], tfdf['physical_height'])\n",
    "print('Tomato Fertilizer Trial RMSE: {}'.format(tfrmse))\n",
    "print('Tomato Fertilizer Trial RRMSE: {}'.format(tfrrmse))"
   ]
  },
  {
   "cell_type": "code",
   "execution_count": 13,
   "metadata": {},
   "outputs": [
    {
     "name": "stdout",
     "output_type": "stream",
     "text": [
      "Garden Plots RMSE: 0.15691098876502166\n",
      "Garden Plots RRMSE: 0.14445200346607287\n"
     ]
    }
   ],
   "source": [
    "# rmse garden plots\n",
    "gpdf = df[df['trial_dir'] == 'Garden_Plots']\n",
    "gprmse = rmse(gpdf['sensor_height'], gpdf['physical_height'])\n",
    "gprrmse = rrmse(gpdf['sensor_height'], gpdf['physical_height'])\n",
    "print('Garden Plots RMSE: {}'.format(gprmse))\n",
    "print('Garden Plots RRMSE: {}'.format(gprrmse))"
   ]
  },
  {
   "cell_type": "code",
   "execution_count": 14,
   "metadata": {},
   "outputs": [
    {
     "name": "stdout",
     "output_type": "stream",
     "text": [
      "Total RMSE: 0.08688429054924802\n",
      "Total RRMSE: 0.11121900991967233\n"
     ]
    }
   ],
   "source": [
    "# total rmse\n",
    "trmse = rmse(df['sensor_height'], df['physical_height'])\n",
    "trrmse = rrmse(df['sensor_height'], df['physical_height'])\n",
    "print('Total RMSE: {}'.format(trmse))\n",
    "print('Total RRMSE: {}'.format(trrmse))"
   ]
  },
  {
   "cell_type": "code",
   "execution_count": 15,
   "metadata": {},
   "outputs": [
    {
     "name": "stdout",
     "output_type": "stream",
     "text": [
      "Tomato Fertilizer Trial MAPE: 0.06664322877149231\n"
     ]
    }
   ],
   "source": [
    "# mape tomato fertilizer trial\n",
    "tfmape = mean_absolute_percentage_error(tfdf['sensor_height'], tfdf['physical_height'])\n",
    "print('Tomato Fertilizer Trial MAPE: {}'.format(tfmape))"
   ]
  },
  {
   "cell_type": "code",
   "execution_count": 16,
   "metadata": {},
   "outputs": [
    {
     "name": "stdout",
     "output_type": "stream",
     "text": [
      "Garden Plots MAPE: 0.12704604238220685\n"
     ]
    }
   ],
   "source": [
    "# mape garden plots\n",
    "gpmape = mean_absolute_percentage_error(gpdf['sensor_height'], gpdf['physical_height'])\n",
    "print('Garden Plots MAPE: {}'.format(gpmape))"
   ]
  },
  {
   "cell_type": "code",
   "execution_count": 17,
   "metadata": {},
   "outputs": [
    {
     "name": "stdout",
     "output_type": "stream",
     "text": [
      "Total MAPE: 0.07630767894920663\n"
     ]
    }
   ],
   "source": [
    "# total mape\n",
    "mape = mean_absolute_percentage_error(df['sensor_height'], df['physical_height'])\n",
    "print('Total MAPE: {}'.format(mape))"
   ]
  },
  {
   "cell_type": "code",
   "execution_count": 18,
   "metadata": {},
   "outputs": [
    {
     "name": "stdout",
     "output_type": "stream",
     "text": [
      "Total Mean Sensor Height: 0.7648980000356096\n",
      "Tomato Fertilizer Trial Mean Sensor Height: 0.7034595240301791\n",
      "Garden Plots Mean Sensor Height: 1.0874499990641198\n"
     ]
    }
   ],
   "source": [
    "# mean sensor height\n",
    "mean_sensor_height = df['sensor_height'].mean()\n",
    "print('Total Mean Sensor Height: {}'.format(mean_sensor_height))\n",
    "tf_mean_sensor_height = tfdf['sensor_height'].mean()\n",
    "print('Tomato Fertilizer Trial Mean Sensor Height: {}'.format(tf_mean_sensor_height))\n",
    "gp_mean_sensor_height = gpdf['sensor_height'].mean()\n",
    "print('Garden Plots Mean Sensor Height: {}'.format(gp_mean_sensor_height))"
   ]
  },
  {
   "cell_type": "code",
   "execution_count": 19,
   "metadata": {},
   "outputs": [
    {
     "name": "stdout",
     "output_type": "stream",
     "text": [
      "Mean Physical Height: 0.7812\n",
      "Tomato Fertilizer Trial Mean Physical Height: 0.7230952380952381\n",
      "Garden Plots Mean Physical Height: 1.08625\n"
     ]
    }
   ],
   "source": [
    "# mean physical height\n",
    "mean_physical_height = df['physical_height'].mean()\n",
    "print('Mean Physical Height: {}'.format(mean_physical_height))\n",
    "tf_mean_physical_height = tfdf['physical_height'].mean()\n",
    "print('Tomato Fertilizer Trial Mean Physical Height: {}'.format(tf_mean_physical_height))\n",
    "gp_mean_physical_height = gpdf['physical_height'].mean()\n",
    "print('Garden Plots Mean Physical Height: {}'.format(gp_mean_physical_height))"
   ]
  },
  {
   "cell_type": "code",
   "execution_count": 20,
   "metadata": {},
   "outputs": [
    {
     "name": "stdout",
     "output_type": "stream",
     "text": [
      "Difference: 0.016301999964390412\n",
      "Tomato Fertilizer Trial Difference: 0.01963571406505904\n",
      "Garden Plots Difference: 0.0011999990641198277\n"
     ]
    }
   ],
   "source": [
    "# difference\n",
    "difference = abs(mean_sensor_height - mean_physical_height)\n",
    "print('Difference: {}'.format(difference))\n",
    "tf_difference = abs(tf_mean_sensor_height - tf_mean_physical_height)\n",
    "print('Tomato Fertilizer Trial Difference: {}'.format(tf_difference))\n",
    "gp_difference = abs(gp_mean_sensor_height - gp_mean_physical_height)\n",
    "print('Garden Plots Difference: {}'.format(gp_difference))"
   ]
  },
  {
   "cell_type": "code",
   "execution_count": 21,
   "metadata": {},
   "outputs": [
    {
     "name": "stdout",
     "output_type": "stream",
     "text": [
      "Mean Percent Difference: 2.086789549973171\n",
      "Tomato Fertilizer Trial Mean Percent Difference: 2.715508695200789\n",
      "Garden Plots Mean Percent Difference: 0.11047172051736043\n"
     ]
    }
   ],
   "source": [
    "# mean percent difference\n",
    "mean_percent_difference = difference / mean_physical_height*100\n",
    "print('Mean Percent Difference: {}'.format(mean_percent_difference))\n",
    "tf_mean_percent_difference = tf_difference / tf_mean_physical_height*100\n",
    "print('Tomato Fertilizer Trial Mean Percent Difference: {}'.format(tf_mean_percent_difference))\n",
    "gp_mean_percent_difference = gp_difference / gp_mean_physical_height*100\n",
    "print('Garden Plots Mean Percent Difference: {}'.format(gp_mean_percent_difference))"
   ]
  },
  {
   "cell_type": "code",
   "execution_count": 22,
   "metadata": {},
   "outputs": [],
   "source": [
    "# Drop columns\n",
    "df.drop(columns=['Height (cm)'], inplace=True)"
   ]
  },
  {
   "cell_type": "code",
   "execution_count": 23,
   "metadata": {},
   "outputs": [],
   "source": [
    "# save df to\tcsv\n",
    "df.to_csv('plant_height_comparisons.csv', index=False)"
   ]
  },
  {
   "cell_type": "markdown",
   "metadata": {},
   "source": [
    "# Determining Whether Trials Are Statistically Different"
   ]
  },
  {
   "cell_type": "markdown",
   "metadata": {},
   "source": [
    "First, let us confirm that plant height is different between trials."
   ]
  },
  {
   "cell_type": "code",
   "execution_count": 24,
   "metadata": {},
   "outputs": [
    {
     "data": {
      "text/plain": [
       "<matplotlib.legend.Legend at 0x15156a9b190>"
      ]
     },
     "execution_count": 24,
     "metadata": {},
     "output_type": "execute_result"
    },
    {
     "data": {
      "image/png": "[encoded data removed]",
      "text/plain": [
       "<Figure size 1000x500 with 1 Axes>"
      ]
     },
     "metadata": {},
     "output_type": "display_data"
    }
   ],
   "source": [
    "# Plot histogram of physical height for both trials\n",
    "plt.figure(figsize=(10, 5))\n",
    "plt.hist(tfdf['physical_height'], bins=20, alpha=0.5, label='Tomato Fertilizer Trial')\n",
    "plt.hist(gpdf['physical_height'], bins=20, alpha=0.5, label='Garden Plots')\n",
    "plt.xlabel('Physical Height (m)')\n",
    "plt.ylabel('Frequency')\n",
    "plt.title('Histogram of Physical Height for Both Trials')\n",
    "plt.legend()"
   ]
  },
  {
   "cell_type": "code",
   "execution_count": 25,
   "metadata": {},
   "outputs": [
    {
     "data": {
      "image/png": "[encoded data removed]",
      "text/plain": [
       "<Figure size 1000x500 with 1 Axes>"
      ]
     },
     "metadata": {},
     "output_type": "display_data"
    }
   ],
   "source": [
    "# Plot histogram for sensor height for both trials\n",
    "plt.figure(figsize=(10, 5))\n",
    "plt.hist(tfdf['sensor_height'], bins=20, alpha=0.5, label='Tomato Fertilizer Trial')\n",
    "plt.hist(gpdf['sensor_height'], bins=20, alpha=0.5, label='Garden Plots')\n",
    "plt.xlabel('Sensor Height (m)')\n",
    "plt.ylabel('Frequency')\n",
    "plt.title('Histogram of Sensor Height for Both Trials')\n",
    "plt.legend()\n",
    "plt.show()"
   ]
  },
  {
   "cell_type": "code",
   "execution_count": 26,
   "metadata": {},
   "outputs": [
    {
     "data": {
      "image/png": "[encoded data removed]",
      "text/plain": [
       "<Figure size 1000x500 with 1 Axes>"
      ]
     },
     "metadata": {},
     "output_type": "display_data"
    }
   ],
   "source": [
    "# Plot a histogram of the error for both trials\n",
    "plt.figure(figsize=(10, 5))\n",
    "plt.hist(tfdf['error'], bins=20, alpha=0.5, label='Tomato Fertilizer Trial')\n",
    "plt.hist(gpdf['error'], bins=20, alpha=0.5, label='Garden Plots')\n",
    "plt.xlabel('Error (m)')\n",
    "plt.ylabel('Frequency')\n",
    "plt.title('Histogram of Error for Both Trials')\n",
    "plt.legend()\n",
    "plt.show()"
   ]
  },
  {
   "cell_type": "code",
   "execution_count": 27,
   "metadata": {},
   "outputs": [
    {
     "data": {
      "image/png": "[encoded data removed]",
      "text/plain": [
       "<Figure size 1000x500 with 1 Axes>"
      ]
     },
     "metadata": {},
     "output_type": "display_data"
    }
   ],
   "source": [
    "# Plot a histogram of the percent error for both trials\n",
    "plt.figure(figsize=(10, 5))\n",
    "plt.hist(tfdf['percent_error'], bins=20, alpha=0.5, label='Tomato Fertilizer Trial')\n",
    "plt.hist(gpdf['percent_error'], bins=20, alpha=0.5, label='Garden Plots')\n",
    "plt.xlabel('Percent Error (%)')\n",
    "plt.ylabel('Frequency')\n",
    "plt.title('Histogram of Percent Error for Both Trials')\n",
    "plt.legend()\n",
    "plt.show()"
   ]
  },
  {
   "cell_type": "markdown",
   "metadata": {},
   "source": [
    "Normality and skewness will now be tested."
   ]
  },
  {
   "cell_type": "code",
   "execution_count": 28,
   "metadata": {},
   "outputs": [
    {
     "name": "stdout",
     "output_type": "stream",
     "text": [
      "Shapiro-Wilk test for Tomato Fertilizer Trial: W = 0.9533002376556396, p-value = 0.08483478426933289\n",
      "Shapiro-Wilk test for Garden Plots: W = 0.8649817705154419, p-value = 0.13454896211624146\n",
      "Skewness test for Tomato Fertilizer Trial: statistic = 1.374728475049897, p-value = 0.16921563981293453\n",
      "Skewness test for Garden Plots: statistic = -1.2916166595000578, p-value = 0.19648993179812602\n"
     ]
    }
   ],
   "source": [
    "# Check normality of the physical height distribution using Shapiro-Wilk test\n",
    "shapiro_tf = shapiro(tfdf['physical_height'])\n",
    "shapiro_gp = shapiro(gpdf['physical_height'])\n",
    "print('Shapiro-Wilk test for Tomato Fertilizer Trial: W = {}, p-value = {}'.format(shapiro_tf.statistic, shapiro_tf.pvalue))\n",
    "print('Shapiro-Wilk test for Garden Plots: W = {}, p-value = {}'.format(shapiro_gp.statistic, shapiro_gp.pvalue))\n",
    "# Run skewness test\n",
    "skew_tf = skewtest(tfdf['physical_height'])\n",
    "skew_gp = skewtest(gpdf['physical_height'])\n",
    "print('Skewness test for Tomato Fertilizer Trial: statistic = {}, p-value = {}'.format(skew_tf.statistic, skew_tf.pvalue))\n",
    "print('Skewness test for Garden Plots: statistic = {}, p-value = {}'.format(skew_gp.statistic, skew_gp.pvalue))"
   ]
  },
  {
   "cell_type": "code",
   "execution_count": 29,
   "metadata": {},
   "outputs": [
    {
     "name": "stdout",
     "output_type": "stream",
     "text": [
      "Shapiro-Wilk test for Tomato Fertilizer Trial Sensor Height: W = 0.910382866859436, p-value = 0.0029890078585594893\n",
      "Shapiro-Wilk test for Garden Plots Sensor Height: W = 0.9563716053962708, p-value = 0.7749159932136536\n",
      "Skewness test for Tomato Fertilizer Trial Sensor Height: statistic = 2.701323854642976, p-value = 0.006906405261363715\n",
      "Skewness test for Garden Plots Sensor Height: statistic = 0.06035664535487765, p-value = 0.951871587665168\n"
     ]
    }
   ],
   "source": [
    "# Check normality of the sensed height distribution using Shapiro-Wilk test\n",
    "shapiro_tf_sensor = shapiro(tfdf['sensor_height'])\n",
    "shapiro_gp_sensor = shapiro(gpdf['sensor_height'])\n",
    "print('Shapiro-Wilk test for Tomato Fertilizer Trial Sensor Height: W = {}, p-value = {}'.format(shapiro_tf_sensor.statistic, shapiro_tf_sensor.pvalue))\n",
    "print('Shapiro-Wilk test for Garden Plots Sensor Height: W = {}, p-value = {}'.format(shapiro_gp_sensor.statistic, shapiro_gp_sensor.pvalue))\n",
    "# Run skewness test\n",
    "skew_tf_sensor = skewtest(tfdf['sensor_height'])\n",
    "skew_gp_sensor = skewtest(gpdf['sensor_height'])\n",
    "print('Skewness test for Tomato Fertilizer Trial Sensor Height: statistic = {}, p-value = {}'.format(skew_tf_sensor.statistic, skew_tf_sensor.pvalue))\n",
    "print('Skewness test for Garden Plots Sensor Height: statistic = {}, p-value = {}'.format(skew_gp_sensor.statistic, skew_gp_sensor.pvalue))"
   ]
  },
  {
   "cell_type": "code",
   "execution_count": 30,
   "metadata": {},
   "outputs": [
    {
     "name": "stdout",
     "output_type": "stream",
     "text": [
      "Shapiro-Wilk test for Tomato Fertilizer Trial: W = 0.891191303730011, p-value = 0.0007928083650767803\n",
      "Shapiro-Wilk test for Garden Plots: W = 0.8711875081062317, p-value = 0.1548088937997818\n",
      "Skewness test for Tomato Fertilizer Trial: statistic = -3.5461178801119884, p-value = 0.0003909512807984794\n",
      "Skewness test for Garden Plots: statistic = 1.2910887108747013, p-value = 0.19667291818379973\n"
     ]
    }
   ],
   "source": [
    "# Check normality of the error distribution using Shapiro-Wilk test\n",
    "shapiro_tf = shapiro(tfdf['error'])\n",
    "print('Shapiro-Wilk test for Tomato Fertilizer Trial: W = {}, p-value = {}'.format(shapiro_tf.statistic, shapiro_tf.pvalue))\n",
    "shapiro_gp = shapiro(gpdf['error'])\n",
    "print('Shapiro-Wilk test for Garden Plots: W = {}, p-value = {}'.format(shapiro_gp.statistic, shapiro_gp.pvalue))\n",
    "# Run skewness test\n",
    "skew_tf = skewtest(tfdf['error'])\n",
    "skew_gp = skewtest(gpdf['error'])\n",
    "print('Skewness test for Tomato Fertilizer Trial: statistic = {}, p-value = {}'.format(skew_tf.statistic, skew_tf.pvalue))\n",
    "print('Skewness test for Garden Plots: statistic = {}, p-value = {}'.format(skew_gp.statistic, skew_gp.pvalue))"
   ]
  },
  {
   "cell_type": "code",
   "execution_count": 31,
   "metadata": {},
   "outputs": [
    {
     "name": "stdout",
     "output_type": "stream",
     "text": [
      "Shapiro-Wilk test for Tomato Fertilizer Trial: W = 0.9425195455551147, p-value = 0.035019923001527786\n",
      "Shapiro-Wilk test for Garden Plots: W = 0.7858952879905701, p-value = 0.02018136903643608\n",
      "Skewness test for Tomato Fertilizer Trial: statistic = -2.1383119184696646, p-value = 0.0324914358800279\n",
      "Skewness test for Garden Plots: statistic = 1.868932350738392, p-value = 0.061632226778565426\n"
     ]
    }
   ],
   "source": [
    "# Check normality of the percent error distribution using Shapiro-Wilk test\n",
    "shapiro_tf = shapiro(tfdf['percent_error'])\n",
    "print('Shapiro-Wilk test for Tomato Fertilizer Trial: W = {}, p-value = {}'.format(shapiro_tf.statistic, shapiro_tf.pvalue))\n",
    "shapiro_gp = shapiro(gpdf['percent_error'])\n",
    "print('Shapiro-Wilk test for Garden Plots: W = {}, p-value = {}'.format(shapiro_gp.statistic, shapiro_gp.pvalue))\n",
    "# Run skewness test\n",
    "skew_tf = skewtest(tfdf['percent_error'])\n",
    "skew_gp = skewtest(gpdf['percent_error'])\n",
    "print('Skewness test for Tomato Fertilizer Trial: statistic = {}, p-value = {}'.format(skew_tf.statistic, skew_tf.pvalue))\n",
    "print('Skewness test for Garden Plots: statistic = {}, p-value = {}'.format(skew_gp.statistic, skew_gp.pvalue))"
   ]
  },
  {
   "cell_type": "markdown",
   "metadata": {},
   "source": [
    "Recap:\n",
    "1. Physical height: TF normal symmetrical dist, GP normal symmetrical dist\n",
    "2. Sensed height: TF abnormal asymmetrical dist, GP normal symmetrical dist\n",
    "3. Error: TF abnormal asymmetrical dist, GP abnormal symmetrical dist\n",
    "4. Percent error: TF abnormal asymmetrical dist, GP abnormal symmetrical dist\n",
    "\n",
    "This means we can run a t-test to prove that the physical heights are different, but we cannot do that for the other ones because it violates the assumption of normality (which also typically includes a symmetrical distribution). Let us prove the heights are different."
   ]
  },
  {
   "cell_type": "code",
   "execution_count": 32,
   "metadata": {},
   "outputs": [
    {
     "name": "stdout",
     "output_type": "stream",
     "text": [
      "T-test for Physical Height: t-statistic = -3.433969035575104, p-value = 0.010537008383426987\n"
     ]
    }
   ],
   "source": [
    "# run a t-test for the physical height of the two trials\n",
    "t_stat, p_value = ttest_ind(tfdf['physical_height'], gpdf['physical_height'], equal_var=False)\n",
    "print('T-test for Physical Height: t-statistic = {}, p-value = {}'.format(t_stat, p_value))"
   ]
  },
  {
   "cell_type": "markdown",
   "metadata": {},
   "source": [
    "They are indeed different in height. We can do a Mann-Whitney U test to compare the other distributions."
   ]
  },
  {
   "cell_type": "code",
   "execution_count": 33,
   "metadata": {},
   "outputs": [
    {
     "name": "stdout",
     "output_type": "stream",
     "text": [
      "Mann-Whitney U test for Sensor Height: U-statistic = 3.0, p-value = 1.3414252320863416e-05\n",
      "Mann-Whitney U test for Error: U-statistic = 192.0, p-value = 0.5410715065685701\n",
      "Mann-Whitney U test for Percent Error: U-statistic = 175.0, p-value = 0.8660473423556703\n"
     ]
    }
   ],
   "source": [
    "# run a mann-whitney u test for the sensor height of the two trials\n",
    "u_stat, p_value = mannwhitneyu(tfdf['sensor_height'], gpdf['sensor_height'], alternative='two-sided')\n",
    "print('Mann-Whitney U test for Sensor Height: U-statistic = {}, p-value = {}'.format(u_stat, p_value))\n",
    "# run a mann-whitney u test for the error of the two trials\n",
    "u_stat, p_value = mannwhitneyu(tfdf['error'], gpdf['error'], alternative='two-sided')\n",
    "print('Mann-Whitney U test for Error: U-statistic = {}, p-value = {}'.format(u_stat, p_value))\n",
    "# run a mann-whitney u test for the percent error of the two trials\n",
    "u_stat, p_value = mannwhitneyu(tfdf['percent_error'], gpdf['percent_error'], alternative='two-sided')\n",
    "print('Mann-Whitney U test for Percent Error: U-statistic = {}, p-value = {}'.format(u_stat, p_value))"
   ]
  },
  {
   "cell_type": "markdown",
   "metadata": {},
   "source": [
    "Sensed height differs between the two trials, but error and percent error does not. It makes sense, as the plants were definitely different in height, so their sensed height should be different as well. Error was always within a couple cm, so that was not going to be too different between the two trials. Percent error, likewise, did not differ. This tells us that while plant height may differ (within reasonable bounds), the error will be similar. Thus, we can combine them into an overall dataset without losing any granular details about sensor performance."
   ]
  },
  {
   "cell_type": "markdown",
   "metadata": {},
   "source": [
    "# Determining Whether Sensed and Measured Height Are Statistically Different"
   ]
  },
  {
   "cell_type": "markdown",
   "metadata": {},
   "source": [
    "First, let us check normality and skewness."
   ]
  },
  {
   "cell_type": "code",
   "execution_count": 34,
   "metadata": {},
   "outputs": [
    {
     "name": "stdout",
     "output_type": "stream",
     "text": [
      "Shapiro-Wilk test for Physical Height: W = 0.7457146644592285, p-value = 6.046965950190497e-08\n",
      "Skewness test for Physical Height: statistic = 4.537153959327314, p-value = 5.701848147691182e-06\n"
     ]
    }
   ],
   "source": [
    "# Check the normality and skewness of the physical height distribution for the df\n",
    "shapiro_df = shapiro(df['physical_height'])\n",
    "print('Shapiro-Wilk test for Physical Height: W = {}, p-value = {}'.format(shapiro_df.statistic, shapiro_df.pvalue))\n",
    "# Run skewness test\n",
    "skew_df = skewtest(df['physical_height'])\n",
    "print('Skewness test for Physical Height: statistic = {}, p-value = {}'.format(skew_df.statistic, skew_df.pvalue))"
   ]
  },
  {
   "cell_type": "code",
   "execution_count": 35,
   "metadata": {},
   "outputs": [
    {
     "name": "stdout",
     "output_type": "stream",
     "text": [
      "Shapiro-Wilk test for Sensor Height: W = 0.7937439680099487, p-value = 6.310581852631003e-07\n",
      "Skewness test for Sensor Height: statistic = 4.115859565506983, p-value = 3.8573913101429894e-05\n"
     ]
    }
   ],
   "source": [
    "# Check normality of the sensed height distribution using Shapiro-Wilk test\n",
    "shapiro_df_sensor = shapiro(df['sensor_height'])\n",
    "print('Shapiro-Wilk test for Sensor Height: W = {}, p-value = {}'.format(shapiro_df_sensor.statistic, shapiro_df_sensor.pvalue))\n",
    "# Run skewness test\n",
    "skew_df_sensor = skewtest(df['sensor_height'])\n",
    "print('Skewness test for Sensor Height: statistic = {}, p-value = {}'.format(skew_df_sensor.statistic, skew_df_sensor.pvalue))"
   ]
  },
  {
   "cell_type": "markdown",
   "metadata": {},
   "source": [
    "The distributions for both physical height and sensed height are abnormal and asymmetrical. Therefore, we must use a Wilcoxon signed-rank test."
   ]
  },
  {
   "cell_type": "code",
   "execution_count": 36,
   "metadata": {},
   "outputs": [
    {
     "name": "stdout",
     "output_type": "stream",
     "text": [
      "Wilcoxon signed-rank test: W-statistic = 424.0, p-value = 0.039015525521861605\n"
     ]
    }
   ],
   "source": [
    "# Conduct a wilcoxon signed-rank test between the physical height and sensor height\n",
    "w_stat, p_value = wilcoxon(df['physical_height'], df['sensor_height'])\n",
    "print('Wilcoxon signed-rank test: W-statistic = {}, p-value = {}'.format(w_stat, p_value))"
   ]
  },
  {
   "cell_type": "markdown",
   "metadata": {},
   "source": [
    "There is indeed a difference."
   ]
  },
  {
   "cell_type": "code",
   "execution_count": 37,
   "metadata": {},
   "outputs": [
    {
     "name": "stdout",
     "output_type": "stream",
     "text": [
      "Number of rows with errors less than 0: 32\n",
      "Number of rows with errors greater than 0: 18\n",
      "Number of rows with errors equal to 0: 0\n"
     ]
    }
   ],
   "source": [
    "# Count the number of rows with errors less than 0\n",
    "print('Number of rows with errors less than 0: {}'.format(len(df[df['error'] < 0])))\n",
    "# Count the number of rows with errors greater than 0\n",
    "print('Number of rows with errors greater than 0: {}'.format(len(df[df['error'] > 0])))\n",
    "# Count the number of rows with errors equal to 0\n",
    "print('Number of rows with errors equal to 0: {}'.format(len(df[df['error'] == 0])))"
   ]
  },
  {
   "cell_type": "code",
   "execution_count": 38,
   "metadata": {},
   "outputs": [
    {
     "data": {
      "image/png": "[encoded data removed]",
      "text/plain": [
       "<Figure size 800x400 with 1 Axes>"
      ]
     },
     "metadata": {},
     "output_type": "display_data"
    }
   ],
   "source": [
    "# Plot a histogram of error for the df\n",
    "# Convert error to cm from m\n",
    "df['error_cm'] = df['error'] * 100\n",
    "plt.figure(figsize=(8, 4))\n",
    "plt.hist(df['error_cm'], bins=20, label='Error (cm)', color ='black')\n",
    "plt.xlabel('Error (cm)')\n",
    "plt.ylabel('Frequency')\n",
    "plt.title('Histogram of Error for All Trials')\n",
    "plt.show()"
   ]
  },
  {
   "cell_type": "code",
   "execution_count": 39,
   "metadata": {},
   "outputs": [
    {
     "name": "stdout",
     "output_type": "stream",
     "text": [
      "Standard Deviation of Physical Height: 0.18789532474552018\n",
      "Standard Deviation of Sensor Height: 0.1692622897799962\n"
     ]
    }
   ],
   "source": [
    "# Get standard deviation of physical height\n",
    "physical_height_std = df['physical_height'].std()\n",
    "print('Standard Deviation of Physical Height: {}'.format(physical_height_std))\n",
    "# Get standard deviation of sensor height\n",
    "sensor_height_std = df['sensor_height'].std()\n",
    "print('Standard Deviation of Sensor Height: {}'.format(sensor_height_std))"
   ]
  },
  {
   "cell_type": "code",
   "execution_count": 40,
   "metadata": {},
   "outputs": [],
   "source": [
    "# add columns for physical height and sensor height in cm\n",
    "df['physical_height_cm'] = df['physical_height'] * 100\n",
    "df['sensor_height_cm'] = df['sensor_height'] * 100"
   ]
  },
  {
   "cell_type": "code",
   "execution_count": 41,
   "metadata": {},
   "outputs": [
    {
     "name": "stdout",
     "output_type": "stream",
     "text": [
      "Slope: 0.8014054501300937\n",
      "Intercept: 13.578170781226756\n",
      "R-squared: 0.951505592430945\n",
      "RMSE for Test Set: 4.667022800286733\n",
      "RRMSE for Test Set: 0.05717708977184658\n"
     ]
    }
   ],
   "source": [
    "# Get regression line for physical height and sensor height\n",
    "def linear_model(x, a, b):\n",
    "\t\t\t\treturn a * x + b\n",
    "\n",
    "seed =\t42\n",
    "random.seed(seed)\n",
    "# train-test-split the data\n",
    "X_train, X_test, y_train, y_test = train_test_split(df['physical_height_cm'], df['sensor_height_cm'], test_size=0.2, random_state=seed)\n",
    "#\tFit the model to the training data\n",
    "popt, pcov = curve_fit(linear_model, X_train, y_train)\n",
    "# Get the slope and intercept of the regression line\n",
    "a, b = popt\n",
    "print('Slope: {}'.format(a))\n",
    "print('Intercept: {}'.format(b))\n",
    "# Get the predicted values for the test set\n",
    "y_pred = linear_model(X_test, a, b)\n",
    "# Calculate the R-squared value\n",
    "r2 = r2_score(y_test, y_pred)\n",
    "print('R-squared: {}'.format(r2))\n",
    "# Calculate the RMSE for the test set\n",
    "rmse_test = rmse(y_pred, y_test)\n",
    "print('RMSE for Test Set: {}'.format(rmse_test))\n",
    "# Calculate the RRMSE for the test set\n",
    "rrmse_test = rrmse(y_pred, y_test)\n",
    "print('RRMSE for Test Set: {}'.format(rrmse_test))\n"
   ]
  },
  {
   "cell_type": "code",
   "execution_count": 60,
   "metadata": {},
   "outputs": [
    {
     "name": "stdout",
     "output_type": "stream",
     "text": [
      "Index(['Record', 'Trial', 'Collection Date', 'Collection Level', 'plot_id',\n",
      "       'date_dir', 'trial_dir', 'sensor_height', 'error', 'physical_height',\n",
      "       'percent_error', 'error_cm', 'physical_height_cm', 'sensor_height_cm',\n",
      "       'growth_pattern', 'corrected_sensor_height', 'corrected_error',\n",
      "       'corrected_percent_error'],\n",
      "      dtype='object')\n"
     ]
    }
   ],
   "source": [
    "print(df.columns)"
   ]
  },
  {
   "cell_type": "code",
   "execution_count": 71,
   "metadata": {},
   "outputs": [
    {
     "data": {
      "image/png": "[encoded data removed]",
      "text/plain": [
       "<Figure size 500x500 with 1 Axes>"
      ]
     },
     "metadata": {},
     "output_type": "display_data"
    }
   ],
   "source": [
    "# Plot the regression line\n",
    "plt.figure(figsize=(5, 5))\n",
    "facecolor_translucent = (0.1, 0.1, 0.1, 0.001)\n",
    "edgecolor_translucent = (0.1, 0.1, 0.1, 1)\n",
    "plt.scatter(df['physical_height'], df['sensor_height'], label='Plant Height', facecolors=facecolor_translucent, edgecolors=edgecolor_translucent)\n",
    "plt.plot(X_test/100, y_pred/100, label='Regression', color='black')\n",
    "plt.xlabel('Physical Height (m)')\n",
    "plt.ylabel('Sensed Height (m)')\n",
    "plt.title('Regression of Physical Height and Sensed Height')\n",
    "plt.legend(loc='lower right')\n",
    "# add equation\tto the plot\n",
    "plt.text(0.02, 0.97, 'y = {:.2f}x + {:.2f}'.format(a, b), transform=plt.gca().transAxes, fontsize=12, verticalalignment='top')\n",
    "plt.text(0.02, 0.90, '$R^2$ = {r2s:.2f}, RMSE = {rmses:.2f}'.format(r2s=r2, rmses=rmse_test/100), transform=plt.gca().transAxes, fontsize=12, verticalalignment='top')\n",
    "\n",
    "# save the plot\n",
    "plt.savefig('plot_figs/regression_physical_vs_sensed_height.png', dpi=300, bbox_inches='tight')"
   ]
  },
  {
   "cell_type": "code",
   "execution_count": 43,
   "metadata": {},
   "outputs": [
    {
     "name": "stdout",
     "output_type": "stream",
     "text": [
      "SMAPE: 7.50254432783198\n"
     ]
    }
   ],
   "source": [
    "# Calculate smape\n",
    "def smape(y_true, y_pred):\n",
    "\t\t\t\treturn 100 * np.mean(np.abs(y_true - y_pred) / ((np.abs(y_true) + np.abs(y_pred)) / 2))\n",
    "print('SMAPE: {}'.format(smape(df['physical_height_cm'], df['sensor_height_cm'])))"
   ]
  },
  {
   "cell_type": "markdown",
   "metadata": {},
   "source": [
    "# Additional Analyses To Do\n",
    "1. Check to see if linear regression correction applied to the whole set improves sensor performance.\n",
    "2. Check to see if determinate vs indeterminate distributions differ."
   ]
  },
  {
   "cell_type": "code",
   "execution_count": 44,
   "metadata": {},
   "outputs": [],
   "source": [
    "# Identify the growth patterns of the plants\n",
    "ind = [\"05\", \"01\", \"16\", \"19\", \"20\"]\n",
    "# Add a new column to the df for the growth pattern\n",
    "df['growth_pattern'] = np.nan\n",
    "# Assign the growth pattern to the df\n",
    "df.loc[df['plot_id'].isin(ind), 'growth_pattern'] = 'indeterminate'\n",
    "df_ind = df.loc[df['growth_pattern'] == 'indeterminate']\n",
    "df.loc[~df['plot_id'].isin(ind), 'growth_pattern'] = 'determinate'\n",
    "df_det = df.loc[df['growth_pattern'] == 'determinate']"
   ]
  },
  {
   "cell_type": "code",
   "execution_count": 45,
   "metadata": {},
   "outputs": [
    {
     "name": "stdout",
     "output_type": "stream",
     "text": [
      "Indeterminate Growth Pattern Stats:\n",
      "Mean Sensor Height: 1.119040003491682\n",
      "Standard Deviation Sensor Height: 0.07334428330939771\n",
      "Mean Physical Height: 1.194\n",
      "Standard Deviation Physical Height: 0.06188699378706318\n",
      "Mean Error: -0.074959996508318\n",
      "Standard Deviation Error: 0.07397827750455431\n",
      "Mean Percent Error: -6.172563557628265\n",
      "Standard Deviation Percent Error: 6.022315162928734\n",
      "Determinate Growth Pattern Stats:\n",
      "Mean Sensor Height: 0.7255488885404904\n",
      "Standard Deviation Sensor Height: 0.12482353178180211\n",
      "Mean Physical Height: 0.7353333333333334\n",
      "Standard Deviation Physical Height: 0.13210877061242857\n",
      "Mean Error: -0.009784444792842904\n",
      "Standard Deviation Error: 0.08569896552677607\n",
      "Mean Percent Error: -0.6329194863710751\n",
      "Standard Deviation Percent Error: 12.207459446182796\n"
     ]
    }
   ],
   "source": [
    "# Calculate the mean and standard deviation for each metric for each df\n",
    "def calculate_stats(df):\n",
    "    # Calculate the mean and standard deviation for each metric\n",
    "\t\t\t\tmean_sensor_height = df['sensor_height'].mean()\n",
    "\t\t\t\tstd_sensor_height = df['sensor_height'].std()\n",
    "\t\t\t\tmean_physical_height = df['physical_height'].mean()\n",
    "\t\t\t\tstd_physical_height = df['physical_height'].std()\n",
    "\t\t\t\tmean_error = df['error'].mean()\n",
    "\t\t\t\tstd_error = df['error'].std()\n",
    "\t\t\t\tmean_percent_error = df['percent_error'].mean()\n",
    "\t\t\t\tstd_percent_error = df['percent_error'].std()\n",
    "\n",
    "\t\t\t\treturn mean_sensor_height, std_sensor_height, mean_physical_height, std_physical_height, mean_error, std_error, mean_percent_error, std_percent_error\n",
    "# Calculate the stats for the indeterminate growth pattern\n",
    "ind_stats = calculate_stats(df_ind)\n",
    "print('Indeterminate Growth Pattern Stats:')\n",
    "print('Mean Sensor Height: {}'.format(ind_stats[0]))\n",
    "print('Standard Deviation Sensor Height: {}'.format(ind_stats[1]))\n",
    "print('Mean Physical Height: {}'.format(ind_stats[2]))\n",
    "print('Standard Deviation Physical Height: {}'.format(ind_stats[3]))\n",
    "print('Mean Error: {}'.format(ind_stats[4]))\n",
    "print('Standard Deviation Error: {}'.format(ind_stats[5]))\n",
    "print('Mean Percent Error: {}'.format(ind_stats[6]))\n",
    "print('Standard Deviation Percent Error: {}'.format(ind_stats[7]))\n",
    "# Calculate the stats for the determinate growth pattern\n",
    "det_stats = calculate_stats(df_det)\n",
    "print('Determinate Growth Pattern Stats:')\n",
    "print('Mean Sensor Height: {}'.format(det_stats[0]))\n",
    "print('Standard Deviation Sensor Height: {}'.format(det_stats[1]))\n",
    "print('Mean Physical Height: {}'.format(det_stats[2]))\n",
    "print('Standard Deviation Physical Height: {}'.format(det_stats[3]))\n",
    "print('Mean Error: {}'.format(det_stats[4]))\n",
    "print('Standard Deviation Error: {}'.format(det_stats[5]))\n",
    "print('Mean Percent Error: {}'.format(det_stats[6]))\n",
    "print('Standard Deviation Percent Error: {}'.format(det_stats[7]))"
   ]
  },
  {
   "cell_type": "code",
   "execution_count": 46,
   "metadata": {},
   "outputs": [
    {
     "name": "stdout",
     "output_type": "stream",
     "text": [
      "Shapiro-Wilk test for Indeterminate Growth Pattern: W = 0.9528988599777222, p-value = 0.7578733563423157\n",
      "Shapiro-Wilk test for Determinate Growth Pattern: W = 0.6618276834487915, p-value = 6.411157826846647e-09\n"
     ]
    }
   ],
   "source": [
    "# check for normality\tof the physical height distribution for the indeterminate growth pattern\n",
    "shapiro_ind = shapiro(df_ind['physical_height'])\n",
    "print('Shapiro-Wilk test for Indeterminate Growth Pattern: W = {}, p-value = {}'.format(shapiro_ind.statistic, shapiro_ind.pvalue))\n",
    "# check\tnormality of the physical height distribution for the determinate growth pattern using Shapiro-Wilk test\n",
    "shapiro_det = shapiro(df_det['physical_height'])\n",
    "print('Shapiro-Wilk test for Determinate Growth Pattern: W = {}, p-value = {}'.format(shapiro_det.statistic, shapiro_det.pvalue))"
   ]
  },
  {
   "cell_type": "code",
   "execution_count": 47,
   "metadata": {},
   "outputs": [
    {
     "name": "stdout",
     "output_type": "stream",
     "text": [
      "Shapiro-Wilk test for Indeterminate Growth Pattern Sensor Height: W = 0.8333907723426819, p-value = 0.1474655419588089\n",
      "Shapiro-Wilk test for Determinate Growth Pattern Sensor Height: W = 0.7462801933288574, p-value = 1.8924163214251166e-07\n"
     ]
    }
   ],
   "source": [
    "# check normality of the sensor height distribution for the indeterminate growth pattern\n",
    "shapiro_ind_sensor = shapiro(df_ind['sensor_height'])\n",
    "print('Shapiro-Wilk test for Indeterminate Growth Pattern Sensor Height: W = {}, p-value = {}'.format(shapiro_ind_sensor.statistic, shapiro_ind_sensor.pvalue))\n",
    "# check normality of the sensor height distribution for the determinate growth pattern using Shapiro-Wilk test\n",
    "shapiro_det_sensor = shapiro(df_det['sensor_height'])\n",
    "print('Shapiro-Wilk test for Determinate Growth Pattern Sensor Height: W = {}, p-value = {}'.format(shapiro_det_sensor.statistic, shapiro_det_sensor.pvalue))"
   ]
  },
  {
   "cell_type": "code",
   "execution_count": 48,
   "metadata": {},
   "outputs": [
    {
     "name": "stdout",
     "output_type": "stream",
     "text": [
      "Shapiro-Wilk test for Indeterminate Growth Pattern Error: W = 0.9273165464401245, p-value = 0.5781888961791992\n",
      "Shapiro-Wilk test for Determinate Growth Pattern Error: W = 0.8787291646003723, p-value = 0.0002199106675107032\n"
     ]
    }
   ],
   "source": [
    "# check normality of the error distribution for the indeterminate growth pattern using Shapiro-Wilk test\n",
    "shapiro_ind_error = shapiro(df_ind['error'])\n",
    "print('Shapiro-Wilk test for Indeterminate Growth Pattern Error: W = {}, p-value = {}'.format(shapiro_ind_error.statistic, shapiro_ind_error.pvalue))\n",
    "# check normality of the error distribution for the determinate growth pattern using Shapiro-Wilk test\n",
    "shapiro_det_error = shapiro(df_det['error'])\n",
    "print('Shapiro-Wilk test for Determinate Growth Pattern Error: W = {}, p-value = {}'.format(shapiro_det_error.statistic, shapiro_det_error.pvalue))"
   ]
  },
  {
   "cell_type": "code",
   "execution_count": 49,
   "metadata": {},
   "outputs": [
    {
     "name": "stdout",
     "output_type": "stream",
     "text": [
      "Shapiro-Wilk test for Indeterminate Growth Pattern Percent Error: W = 0.9290477633476257, p-value = 0.5898913145065308\n",
      "Shapiro-Wilk test for Determinate Growth Pattern Percent Error: W = 0.8375377058982849, p-value = 1.777101897459943e-05\n"
     ]
    }
   ],
   "source": [
    "# check normality of percent\terror distribution for the indeterminate growth pattern using Shapiro-Wilk test\n",
    "shapiro_ind_percent_error = shapiro(df_ind['percent_error'])\n",
    "print('Shapiro-Wilk test for Indeterminate Growth Pattern Percent Error: W = {}, p-value = {}'.format(shapiro_ind_percent_error.statistic, shapiro_ind_percent_error.pvalue))\n",
    "# check normality of percent error distribution for the determinate growth pattern using Shapiro-Wilk test\n",
    "shapiro_det_percent_error = shapiro(df_det['percent_error'])\n",
    "print('Shapiro-Wilk test for Determinate Growth Pattern Percent Error: W = {}, p-value = {}'.format(shapiro_det_percent_error.statistic, shapiro_det_percent_error.pvalue))"
   ]
  },
  {
   "cell_type": "markdown",
   "metadata": {},
   "source": [
    "Recap:\n",
    "1. Indeterminate physical height was normally distributed, determinate was non-normally distributed.\n",
    "2. Indeterminate sensed height was normally distributed, determinate was non-normally distributed.\n",
    "3. Indeterminate error was normally distributed, determinate was non-normally distributed.\n",
    "4. Indeterminate percent error was normally distributed, determinate was non-normally distributed.\n",
    "\n",
    "The distributions for all pairs included at least one abnormal distribution. Therefore, we must use a Mann-Whitney U test to determine if they are significantly different."
   ]
  },
  {
   "cell_type": "code",
   "execution_count": 50,
   "metadata": {},
   "outputs": [
    {
     "name": "stdout",
     "output_type": "stream",
     "text": [
      "Mann-Whitney U test for Physical Height: U-statistic = 220.0, p-value = 0.0005277613789831627\n",
      "Mann-Whitney U test for Sensor Height: U-statistic = 220.0, p-value = 0.0005396580646780341\n",
      "Mann-Whitney U test for Error: U-statistic = 62.0, p-value = 0.10752893201684005\n",
      "Mann-Whitney U test for Percent Error: U-statistic = 74.0, p-value = 0.2267930298854047\n"
     ]
    }
   ],
   "source": [
    "# run a mann-whitney u test for the physical height of both growth patterns\n",
    "u_stat, p_value = mannwhitneyu(df_ind['physical_height'], df_det['physical_height'], alternative='two-sided')\n",
    "print('Mann-Whitney U test for Physical Height: U-statistic = {}, p-value = {}'.format(u_stat, p_value))\n",
    "# run a mann-whitney u test for the sensor height of both growth patterns\n",
    "u_stat, p_value = mannwhitneyu(df_ind['sensor_height'], df_det['sensor_height'], alternative='two-sided')\n",
    "print('Mann-Whitney U test for Sensor Height: U-statistic = {}, p-value = {}'.format(u_stat, p_value))\n",
    "# run a mann-whitney u test for the error of both growth patterns\n",
    "u_stat, p_value = mannwhitneyu(df_ind['error'], df_det['error'], alternative='two-sided')\n",
    "print('Mann-Whitney U test for Error: U-statistic = {}, p-value = {}'.format(u_stat, p_value))\n",
    "# run a mann-whitney u test for the percent error of both growth patterns\n",
    "u_stat, p_value = mannwhitneyu(df_ind['percent_error'], df_det['percent_error'], alternative='two-sided')\n",
    "print('Mann-Whitney U test for Percent Error: U-statistic = {}, p-value = {}'.format(u_stat, p_value))"
   ]
  },
  {
   "cell_type": "markdown",
   "metadata": {},
   "source": [
    "Sensed and physical height differ between the two growth, but error and percent error does not. It makes sense, as the plants with different growth patterns were definitely different in height, so their sensed height should be different as well. Error was always within a couple cm, so that was not going to be too different between the two growth patterns. Percent error, likewise, did not differ. This tells us that while plant height may differ (within reasonable bounds), the error will be similar. Thus, we can combine them into an overall dataset without losing any granular details about sensor performance."
   ]
  },
  {
   "cell_type": "code",
   "execution_count": 51,
   "metadata": {},
   "outputs": [
    {
     "name": "stdout",
     "output_type": "stream",
     "text": [
      "Corrected RMSE: 0.09606377841104875\n",
      "Corrected RRMSE: 0.12296950641455294\n"
     ]
    }
   ],
   "source": [
    "# Create a column for corrected sensor height\n",
    "a = 0.8\n",
    "b = 0.14\n",
    "def correct(x, a, b):\n",
    "\treturn (x-b)/a\n",
    "df['corrected_sensor_height'] = df['sensor_height'].apply(lambda x: correct(x, a, b))\n",
    "# Calculate the RMSE for the corrected sensor height\n",
    "corrected_rmse = rmse(df['corrected_sensor_height'], df['physical_height'])\n",
    "print('Corrected RMSE: {}'.format(corrected_rmse))\n",
    "# Calculate the RRMSE for the corrected sensor height\n",
    "corrected_rrmse = rrmse(df['corrected_sensor_height'], df['physical_height'])\n",
    "print('Corrected RRMSE: {}'.format(corrected_rrmse))"
   ]
  },
  {
   "cell_type": "code",
   "execution_count": 52,
   "metadata": {},
   "outputs": [
    {
     "name": "stdout",
     "output_type": "stream",
     "text": [
      "RMSE: 0.08688429054924802\n",
      "RRMSE: 0.11121900991967233\n"
     ]
    }
   ],
   "source": [
    "# Get rmse for sensor height and physical height\n",
    "rmse = rmse(df['sensor_height'], df['physical_height'])\n",
    "print('RMSE: {}'.format(rmse))\n",
    "# Get rrmse for sensor height and physical height\n",
    "rrmse = rrmse(df['sensor_height'], df['physical_height'])\n",
    "print('RRMSE: {}'.format(rrmse))"
   ]
  },
  {
   "cell_type": "code",
   "execution_count": 53,
   "metadata": {},
   "outputs": [
    {
     "name": "stdout",
     "output_type": "stream",
     "text": [
      "Corrected Mean: 0.781122500044512\n",
      "Corrected Standard Deviation: 0.21157786222499522\n"
     ]
    }
   ],
   "source": [
    "# print mean\tand standard deviation of the corrected sensor height\n",
    "corrected_mean = df['corrected_sensor_height'].mean()\n",
    "print('Corrected Mean: {}'.format(corrected_mean))\n",
    "corrected_std = df['corrected_sensor_height'].std()\n",
    "print('Corrected Standard Deviation: {}'.format(corrected_std))"
   ]
  },
  {
   "cell_type": "code",
   "execution_count": 54,
   "metadata": {},
   "outputs": [
    {
     "name": "stdout",
     "output_type": "stream",
     "text": [
      "Physical Mean: 0.7812\n",
      "Physical Standard Deviation: 0.18789532474552018\n"
     ]
    }
   ],
   "source": [
    "# print mean and standard deviation of the physical height\n",
    "physical_mean = df['physical_height'].mean()\n",
    "print('Physical Mean: {}'.format(physical_mean))\n",
    "physical_std = df['physical_height'].std()\n",
    "print('Physical Standard Deviation: {}'.format(physical_std))"
   ]
  },
  {
   "cell_type": "code",
   "execution_count": 55,
   "metadata": {},
   "outputs": [
    {
     "name": "stdout",
     "output_type": "stream",
     "text": [
      "Sensor Mean: 0.7648980000356096\n",
      "Sensor Standard Deviation: 0.1692622897799962\n"
     ]
    }
   ],
   "source": [
    "# print mean and standard deviation of the sensor height\n",
    "sensor_mean = df['sensor_height'].mean()\n",
    "print('Sensor Mean: {}'.format(sensor_mean))\n",
    "sensor_std = df['sensor_height'].std()\n",
    "print('Sensor Standard Deviation: {}'.format(sensor_std))"
   ]
  },
  {
   "cell_type": "code",
   "execution_count": 56,
   "metadata": {},
   "outputs": [
    {
     "name": "stdout",
     "output_type": "stream",
     "text": [
      "Shapiro-Wilk test for Corrected Sensor Height: W = 0.7937440872192383, p-value = 6.310627327366092e-07\n",
      "Skewness test for Corrected Sensor Height: statistic = 4.11585956550698, p-value = 3.8573913101430334e-05\n"
     ]
    }
   ],
   "source": [
    "# conduct shapiro-wilk test for the corrected sensor height and skewness test\n",
    "shapiro_corrected = shapiro(df['corrected_sensor_height'])\n",
    "print('Shapiro-Wilk test for Corrected Sensor Height: W = {}, p-value = {}'.format(shapiro_corrected.statistic, shapiro_corrected.pvalue))\n",
    "# run skewness test\n",
    "skew_corrected = skewtest(df['corrected_sensor_height'])\n",
    "print('Skewness test for Corrected Sensor Height: statistic = {}, p-value = {}'.format(skew_corrected.statistic, skew_corrected.pvalue))"
   ]
  },
  {
   "cell_type": "markdown",
   "metadata": {},
   "source": [
    "The correction equation produced a non-normal distribution with skew, so Mann-Whitney U tests will be used to determine whether it is significantly different from the physical height and sensed height."
   ]
  },
  {
   "cell_type": "code",
   "execution_count": 57,
   "metadata": {},
   "outputs": [
    {
     "name": "stdout",
     "output_type": "stream",
     "text": [
      "Mann-Whitney U test for Corrected Sensor Height and Physical Height: U-statistic = 1151.0, p-value = 0.4970161710955491\n"
     ]
    }
   ],
   "source": [
    "# conduct a Mann-Whitney U test for the corrected sensor height and physical height\n",
    "u_stat, p_value = mannwhitneyu(df['corrected_sensor_height'], df['physical_height'], alternative='two-sided')\n",
    "print('Mann-Whitney U test for Corrected Sensor Height and Physical Height: U-statistic = {}, p-value = {}'.format(u_stat, p_value))"
   ]
  },
  {
   "cell_type": "code",
   "execution_count": 58,
   "metadata": {},
   "outputs": [
    {
     "name": "stdout",
     "output_type": "stream",
     "text": [
      "Mann-Whitney U test for Corrected Sensor Height and Sensor Height: U-statistic = 1220.0, p-value = 0.8388467008580135\n"
     ]
    }
   ],
   "source": [
    "# conduct a Mann-Whitney U\ttest for the corrected sensor height and sensor height\n",
    "u_stat, p_value = mannwhitneyu(df['corrected_sensor_height'], df['sensor_height'], alternative='two-sided')\n",
    "print('Mann-Whitney U test for Corrected Sensor Height and Sensor Height: U-statistic = {}, p-value = {}'.format(u_stat, p_value))"
   ]
  },
  {
   "cell_type": "code",
   "execution_count": 59,
   "metadata": {},
   "outputs": [
    {
     "name": "stdout",
     "output_type": "stream",
     "text": [
      "Corrected Error Mean: -7.749995548806954e-05\n",
      "Corrected Error Standard Deviation: 0.09703903862208206\n",
      "Corrected Percent Error Mean: 0.1615560964778171\n",
      "Corrected Percent Error Standard Deviation: 13.608627008009178\n",
      "Error Mean: -0.016301999964390412\n",
      "Error Standard Deviation: 0.08620765592574359\n",
      "Percent Error Mean: -1.1868838934967942\n",
      "Percent Error Standard Deviation: 11.815018532617131\n"
     ]
    }
   ],
   "source": [
    "# Add a column for corrected error\n",
    "df['corrected_error'] = df['corrected_sensor_height'] - df['physical_height']\n",
    "# Add a column for\tcorrected percent error\n",
    "df['corrected_percent_error'] = df['corrected_error'] / df['physical_height'] * 100\n",
    "# Calculate the mean and standard deviation of the corrected error\n",
    "corrected_error_mean = df['corrected_error'].mean()\n",
    "print('Corrected Error Mean: {}'.format(corrected_error_mean))\n",
    "corrected_error_std = df['corrected_error'].std()\n",
    "print('Corrected Error Standard Deviation: {}'.format(corrected_error_std))\n",
    "# Calculate the mean and standard deviation of the corrected percent error\n",
    "corrected_percent_error_mean = df['corrected_percent_error'].mean()\n",
    "print('Corrected Percent Error Mean: {}'.format(corrected_percent_error_mean))\n",
    "corrected_percent_error_std = df['corrected_percent_error'].std()\n",
    "print('Corrected Percent Error Standard Deviation: {}'.format(corrected_percent_error_std))\n",
    "# calculate mean and standard deviation of error\n",
    "error_mean = df['error'].mean()\n",
    "print('Error Mean: {}'.format(error_mean))\n",
    "error_std = df['error'].std()\n",
    "print('Error Standard Deviation: {}'.format(error_std))\n",
    "# calculate mean and standard deviation of percent error\n",
    "percent_error_mean = df['percent_error'].mean()\n",
    "print('Percent Error Mean: {}'.format(percent_error_mean))\n",
    "percent_error_std = df['percent_error'].std()\n",
    "print('Percent Error Standard Deviation: {}'.format(percent_error_std))"
   ]
  }
 ],
 "metadata": {
  "kernelspec": {
   "display_name": "pcp_env",
   "language": "python",
   "name": "python3"
  },
  "language_info": {
   "codemirror_mode": {
    "name": "ipython",
    "version": 3
   },
   "file_extension": ".py",
   "mimetype": "text/x-python",
   "name": "python",
   "nbconvert_exporter": "python",
   "pygments_lexer": "ipython3",
   "version": "3.9.18"
  }
 },
 "nbformat": 4,
 "nbformat_minor": 2
}
