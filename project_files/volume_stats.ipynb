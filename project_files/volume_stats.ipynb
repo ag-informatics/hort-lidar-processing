{
 "cells": [
  {
   "cell_type": "code",
   "execution_count": 1,
   "metadata": {},
   "outputs": [],
   "source": [
    "import pandas as pd\n",
    "import numpy as np"
   ]
  },
  {
   "cell_type": "code",
   "execution_count": 2,
   "metadata": {},
   "outputs": [],
   "source": [
    "# Read in the data\n",
    "df = pd.read_csv('volume_directory.csv', index_col='sample_id')\n",
    "ref_df = pd.read_csv('biomass_scrape.csv', index_col='Sample ID')"
   ]
  },
  {
   "cell_type": "code",
   "execution_count": 3,
   "metadata": {},
   "outputs": [],
   "source": [
    "# Drop rows not found in indexes of both dfs\n",
    "df = df[df.index.isin(ref_df.index)]"
   ]
  },
  {
   "cell_type": "code",
   "execution_count": 5,
   "metadata": {},
   "outputs": [
    {
     "name": "stdout",
     "output_type": "stream",
     "text": [
      "Index(['plot_id', 'trial_dir', 'date_dir', 'species', 'width', 'depth',\n",
      "       'height', 'voxel_vol_02', 'voxel_vol_01', 'voxel_vol_005',\n",
      "       'voxel_vol_002', 'voxel_vol_001', 'convh_vol', 'ground_area'],\n",
      "      dtype='object')\n"
     ]
    }
   ],
   "source": [
    "print(df.columns)"
   ]
  },
  {
   "cell_type": "code",
   "execution_count": 6,
   "metadata": {},
   "outputs": [],
   "source": [
    "# Add sampling age column from ref_df to df based on indexes of both dfs\n",
    "df['sampling_age'] = ref_df['Sampling Age']"
   ]
  },
  {
   "cell_type": "code",
   "execution_count": 7,
   "metadata": {},
   "outputs": [
    {
     "name": "stdout",
     "output_type": "stream",
     "text": [
      "Index(['plot_id', 'trial_dir', 'date_dir', 'species', 'width', 'depth',\n",
      "       'height', 'voxel_vol_02', 'voxel_vol_01', 'voxel_vol_005',\n",
      "       'voxel_vol_002', 'voxel_vol_001', 'convh_vol', 'ground_area',\n",
      "       'sampling_age'],\n",
      "      dtype='object')\n",
      "24\n"
     ]
    }
   ],
   "source": [
    "print(df.columns)\n",
    "print(len(df))"
   ]
  },
  {
   "cell_type": "code",
   "execution_count": 28,
   "metadata": {},
   "outputs": [],
   "source": [
    "# Set up summary dataframe\n",
    "s_cols = ['species', 'sampling_age', 'voxel_vol_02', 'voxel_vol_01', 'voxel_vol_005', \n",
    "          'voxel_vol_002', 'voxel_vol_001', 'convh_vol']\n",
    "summary_df = pd.DataFrame(columns=s_cols)"
   ]
  },
  {
   "cell_type": "code",
   "execution_count": 29,
   "metadata": {},
   "outputs": [],
   "source": [
    "# Loop through each species and sampling age\n",
    "for species in df['species'].unique():\n",
    "    for sampling_age in df['sampling_age'].unique():\n",
    "        # Subset the dataframe\n",
    "        sub_df = df[(df['species'] == species) & (df['sampling_age'] == sampling_age)]\n",
    "        # Get the number of samples\n",
    "        n = len(sub_df)\n",
    "        if n != 0:\n",
    "            # Get the mean biomass values\n",
    "            voxel_vol_02 = np.mean(sub_df['voxel_vol_02'])\n",
    "            voxel_vol_01 = np.mean(sub_df['voxel_vol_01'])\n",
    "            voxel_vol_005 = np.mean(sub_df['voxel_vol_005'])\n",
    "            voxel_vol_002 = np.mean(sub_df['voxel_vol_002'])\n",
    "            voxel_vol_001 = np.mean(sub_df['voxel_vol_001'])\n",
    "            convh_vol = np.mean(sub_df['convh_vol'])\n",
    "            # Add the values to the summary dataframe\n",
    "            summary_df.loc[len(summary_df)] = [species, sampling_age, voxel_vol_02, \n",
    "                                               voxel_vol_01, voxel_vol_005, voxel_vol_002, \n",
    "                                               voxel_vol_001, convh_vol]"
   ]
  },
  {
   "cell_type": "code",
   "execution_count": 31,
   "metadata": {},
   "outputs": [
    {
     "name": "stdout",
     "output_type": "stream",
     "text": [
      "      species  sampling_age  voxel_vol_02  voxel_vol_01  voxel_vol_005  \\\n",
      "9      tomato             0      0.004731      0.001653       0.000539   \n",
      "7      tomato             2      0.028936      0.010664       0.003509   \n",
      "6      tomato             5      0.052128      0.017904       0.005082   \n",
      "8      tomato            10      0.145664      0.047812       0.011175   \n",
      "5      tomato            15      0.222432      0.074665       0.017648   \n",
      "4  watermelon             0      0.003328      0.001158       0.000377   \n",
      "3  watermelon             2      0.013872      0.004619       0.001356   \n",
      "1  watermelon             4      0.004052      0.001378       0.000427   \n",
      "2  watermelon             9      0.246048      0.081480       0.022184   \n",
      "0  watermelon            15      0.292144      0.087762       0.016587   \n",
      "\n",
      "   voxel_vol_002  voxel_vol_001  convh_vol  \n",
      "9       0.000129       0.000039   0.012095  \n",
      "7       0.000791       0.000207   0.092525  \n",
      "6       0.000715       0.000137   0.222063  \n",
      "8       0.001065       0.000157   0.662457  \n",
      "5       0.001566       0.000218   1.028322  \n",
      "4       0.000091       0.000028   0.008564  \n",
      "3       0.000281       0.000076   0.048524  \n",
      "1       0.000093       0.000026   0.012696  \n",
      "2       0.002950       0.000463   1.631887  \n",
      "0       0.001332       0.000180   1.998341  \n"
     ]
    }
   ],
   "source": [
    "summary_df.sort_values(by=['species', 'sampling_age'], inplace=True)\n",
    "print(summary_df)"
   ]
  },
  {
   "cell_type": "code",
   "execution_count": 32,
   "metadata": {},
   "outputs": [],
   "source": [
    "# Write to csv\n",
    "summary_df.to_csv('volume_summary.csv', index=False)"
   ]
  }
 ],
 "metadata": {
  "kernelspec": {
   "display_name": "pcp_env",
   "language": "python",
   "name": "python3"
  },
  "language_info": {
   "codemirror_mode": {
    "name": "ipython",
    "version": 3
   },
   "file_extension": ".py",
   "mimetype": "text/x-python",
   "name": "python",
   "nbconvert_exporter": "python",
   "pygments_lexer": "ipython3",
   "version": "3.9.18"
  }
 },
 "nbformat": 4,
 "nbformat_minor": 2
}
